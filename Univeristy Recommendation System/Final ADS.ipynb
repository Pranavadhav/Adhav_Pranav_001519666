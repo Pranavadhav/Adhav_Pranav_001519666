{
 "cells": [
  {
   "cell_type": "markdown",
   "id": "78cb5691",
   "metadata": {},
   "source": [
    "# <center>University Recommender System</center>"
   ]
  },
  {
   "cell_type": "markdown",
   "id": "263beda7",
   "metadata": {},
   "source": [
    "<center>\n",
    "<img src='ipynb.images/2.png' width=1000 />\n",
    "</center>"
   ]
  },
  {
   "cell_type": "markdown",
   "id": "b0f85567",
   "metadata": {},
   "source": [
    "## Background :"
   ]
  },
  {
   "cell_type": "markdown",
   "id": "2abb2a34",
   "metadata": {},
   "source": [
    "•Institutions take in the students who are suitable candidates based on their academic\n",
    "profile, standardized test scores. But in this entire process university selection is the\n",
    "most crucial & tedious step for applying to graduate studies.<br>\n",
    "• Some of them succeed and get admission into their desired programs in desired\n",
    "universities, but some are not because of the academic level of colleges which they have\n",
    "applied.<br>\n",
    "• To resolve this problem of not getting admission because of applications, even though\n",
    "students have good academic profile, I have developed this recommendation system. "
   ]
  },
  {
   "cell_type": "code",
   "execution_count": 252,
   "id": "76d10370",
   "metadata": {},
   "outputs": [],
   "source": [
    "import numpy as np \n",
    "import pandas as pd \n",
    "import matplotlib.pyplot as plt \n",
    "import sys\n",
    "import os\n",
    "import collections\n",
    "from collections import defaultdict\n",
    "import numpy as np\n",
    "import pandas as pd\n",
    "from scipy import stats\n",
    "import re\n",
    "import math\n",
    "from sklearn import neighbors, datasets\n",
    "from numpy.random import permutation\n",
    "import matplotlib.pyplot as plt\n",
    "from sklearn import svm\n",
    "from sklearn.ensemble import RandomForestClassifier\n",
    "from sklearn.metrics import precision_recall_fscore_support\n",
    "from sklearn.preprocessing import StandardScaler\n",
    "import seaborn as sns\n",
    "from sklearn.preprocessing import LabelEncoder\n",
    "from sklearn.model_selection import train_test_split\n",
    "from sklearn import metrics\n",
    "from sklearn.metrics import classification_report\n",
    "from sklearn.naive_bayes import GaussianNB\n",
    "from tensorflow import keras\n",
    "from keras.models import Sequential, load_model\n",
    "from keras.layers import Dense, Dropout, Activation, Conv2D,MaxPooling2D, Flatten\n",
    "from sklearn.tree import DecisionTreeClassifier\n",
    "from sklearn.neighbors import KNeighborsClassifier\n",
    "from sklearn.svm import SVC\n",
    "from sklearn.metrics import accuracy_score\n",
    "from sklearn.linear_model import LogisticRegression\n",
    "from sklearn.metrics import plot_confusion_matrix\n",
    "from scipy.stats import randint\n",
    "from sklearn.tree import DecisionTreeClassifier\n",
    "from sklearn.model_selection import RandomizedSearchCV\n",
    "from sklearn.model_selection import GridSearchCV"
   ]
  },
  {
   "cell_type": "code",
   "execution_count": 209,
   "id": "b27f771b",
   "metadata": {},
   "outputs": [
    {
     "name": "stderr",
     "output_type": "stream",
     "text": [
      "D:\\anaconda\\lib\\site-packages\\IPython\\core\\interactiveshell.py:3444: DtypeWarning: Columns (5,14) have mixed types.Specify dtype option on import or set low_memory=False.\n",
      "  exec(code_obj, self.user_global_ns, self.user_ns)\n"
     ]
    },
    {
     "data": {
      "text/plain": [
       "(485250, 20)"
      ]
     },
     "execution_count": 209,
     "metadata": {},
     "output_type": "execute_result"
    }
   ],
   "source": [
    "#Reading data from CSV file\n",
    "\n",
    "cs_file = \"Final.csv\"\n",
    "data = pd.read_csv(cs_file)\n",
    "data.shape"
   ]
  },
  {
   "cell_type": "code",
   "execution_count": 210,
   "id": "26e5f2ec",
   "metadata": {},
   "outputs": [
    {
     "data": {
      "text/html": [
       "<div>\n",
       "<style scoped>\n",
       "    .dataframe tbody tr th:only-of-type {\n",
       "        vertical-align: middle;\n",
       "    }\n",
       "\n",
       "    .dataframe tbody tr th {\n",
       "        vertical-align: top;\n",
       "    }\n",
       "\n",
       "    .dataframe thead th {\n",
       "        text-align: right;\n",
       "    }\n",
       "</style>\n",
       "<table border=\"1\" class=\"dataframe\">\n",
       "  <thead>\n",
       "    <tr style=\"text-align: right;\">\n",
       "      <th></th>\n",
       "      <th>Unnamed: 0</th>\n",
       "      <th>Unnamed: 0.1</th>\n",
       "      <th>0</th>\n",
       "      <th>1</th>\n",
       "      <th>2</th>\n",
       "      <th>3</th>\n",
       "      <th>4</th>\n",
       "      <th>5</th>\n",
       "      <th>6</th>\n",
       "      <th>7</th>\n",
       "      <th>8</th>\n",
       "      <th>9</th>\n",
       "      <th>10</th>\n",
       "      <th>11</th>\n",
       "      <th>12</th>\n",
       "      <th>13</th>\n",
       "      <th>14</th>\n",
       "      <th>15</th>\n",
       "      <th>16</th>\n",
       "      <th>17</th>\n",
       "    </tr>\n",
       "  </thead>\n",
       "  <tbody>\n",
       "    <tr>\n",
       "      <th>0</th>\n",
       "      <td>0</td>\n",
       "      <td>0</td>\n",
       "      <td>University Of Waterloo</td>\n",
       "      <td>Systems Design Engineering</td>\n",
       "      <td>MS</td>\n",
       "      <td>NaN</td>\n",
       "      <td>Accepted</td>\n",
       "      <td>Website</td>\n",
       "      <td>(1, 7, 2019)</td>\n",
       "      <td>1.561964e+09</td>\n",
       "      <td>NaN</td>\n",
       "      <td>NaN</td>\n",
       "      <td>NaN</td>\n",
       "      <td>NaN</td>\n",
       "      <td>NaN</td>\n",
       "      <td>NaN</td>\n",
       "      <td>International</td>\n",
       "      <td>(10, 7, 2019)</td>\n",
       "      <td>1562742000</td>\n",
       "      <td>NaN</td>\n",
       "    </tr>\n",
       "    <tr>\n",
       "      <th>1</th>\n",
       "      <td>1</td>\n",
       "      <td>1</td>\n",
       "      <td>Northeastern University</td>\n",
       "      <td>Electrical Engineering</td>\n",
       "      <td>PhD</td>\n",
       "      <td>F19</td>\n",
       "      <td>Rejected</td>\n",
       "      <td>Website</td>\n",
       "      <td>(8, 7, 2019)</td>\n",
       "      <td>1.562569e+09</td>\n",
       "      <td>NaN</td>\n",
       "      <td>NaN</td>\n",
       "      <td>NaN</td>\n",
       "      <td>NaN</td>\n",
       "      <td>NaN</td>\n",
       "      <td>NaN</td>\n",
       "      <td>NaN</td>\n",
       "      <td>(10, 7, 2019)</td>\n",
       "      <td>1562742000</td>\n",
       "      <td>Got email today!</td>\n",
       "    </tr>\n",
       "    <tr>\n",
       "      <th>2</th>\n",
       "      <td>2</td>\n",
       "      <td>2</td>\n",
       "      <td>The University Of Auckland</td>\n",
       "      <td>Electrical And Electronic Engineering</td>\n",
       "      <td>MS</td>\n",
       "      <td>NaN</td>\n",
       "      <td>Accepted</td>\n",
       "      <td>Website</td>\n",
       "      <td>(19, 6, 2019)</td>\n",
       "      <td>1.560928e+09</td>\n",
       "      <td>NaN</td>\n",
       "      <td>NaN</td>\n",
       "      <td>NaN</td>\n",
       "      <td>NaN</td>\n",
       "      <td>NaN</td>\n",
       "      <td>NaN</td>\n",
       "      <td>International</td>\n",
       "      <td>(9, 7, 2019)</td>\n",
       "      <td>1562655600</td>\n",
       "      <td>Top Student\\nIELTS: 7.5\\nContacted Supervisor\\...</td>\n",
       "    </tr>\n",
       "    <tr>\n",
       "      <th>3</th>\n",
       "      <td>3</td>\n",
       "      <td>3</td>\n",
       "      <td>Radford University</td>\n",
       "      <td>Counseling Psychology PsyD.</td>\n",
       "      <td>Other</td>\n",
       "      <td>F19</td>\n",
       "      <td>Accepted</td>\n",
       "      <td>Phone</td>\n",
       "      <td>(4, 3, 2019)</td>\n",
       "      <td>1.551686e+09</td>\n",
       "      <td>NaN</td>\n",
       "      <td>NaN</td>\n",
       "      <td>NaN</td>\n",
       "      <td>NaN</td>\n",
       "      <td>NaN</td>\n",
       "      <td>NaN</td>\n",
       "      <td>American</td>\n",
       "      <td>(9, 7, 2019)</td>\n",
       "      <td>1562655600</td>\n",
       "      <td>NaN</td>\n",
       "    </tr>\n",
       "    <tr>\n",
       "      <th>4</th>\n",
       "      <td>4</td>\n",
       "      <td>4</td>\n",
       "      <td>University Of Chittagong</td>\n",
       "      <td>Computer Science</td>\n",
       "      <td>MS</td>\n",
       "      <td>NaN</td>\n",
       "      <td>NaN</td>\n",
       "      <td>Other</td>\n",
       "      <td>(9, 7, 2019)</td>\n",
       "      <td>1.562656e+09</td>\n",
       "      <td>3.2</td>\n",
       "      <td>163.0</td>\n",
       "      <td>168.0</td>\n",
       "      <td>4.0</td>\n",
       "      <td>True</td>\n",
       "      <td>NaN</td>\n",
       "      <td>International</td>\n",
       "      <td>(9, 7, 2019)</td>\n",
       "      <td>1562655600</td>\n",
       "      <td>NaN</td>\n",
       "    </tr>\n",
       "  </tbody>\n",
       "</table>\n",
       "</div>"
      ],
      "text/plain": [
       "   Unnamed: 0  Unnamed: 0.1                           0  \\\n",
       "0           0             0      University Of Waterloo   \n",
       "1           1             1     Northeastern University   \n",
       "2           2             2  The University Of Auckland   \n",
       "3           3             3          Radford University   \n",
       "4           4             4    University Of Chittagong   \n",
       "\n",
       "                                       1      2    3         4        5  \\\n",
       "0             Systems Design Engineering     MS  NaN  Accepted  Website   \n",
       "1                 Electrical Engineering    PhD  F19  Rejected  Website   \n",
       "2  Electrical And Electronic Engineering     MS  NaN  Accepted  Website   \n",
       "3            Counseling Psychology PsyD.  Other  F19  Accepted    Phone   \n",
       "4                       Computer Science     MS  NaN       NaN    Other   \n",
       "\n",
       "               6             7    8      9     10   11    12  13  \\\n",
       "0   (1, 7, 2019)  1.561964e+09  NaN    NaN    NaN  NaN   NaN NaN   \n",
       "1   (8, 7, 2019)  1.562569e+09  NaN    NaN    NaN  NaN   NaN NaN   \n",
       "2  (19, 6, 2019)  1.560928e+09  NaN    NaN    NaN  NaN   NaN NaN   \n",
       "3   (4, 3, 2019)  1.551686e+09  NaN    NaN    NaN  NaN   NaN NaN   \n",
       "4   (9, 7, 2019)  1.562656e+09  3.2  163.0  168.0  4.0  True NaN   \n",
       "\n",
       "              14             15          16  \\\n",
       "0  International  (10, 7, 2019)  1562742000   \n",
       "1            NaN  (10, 7, 2019)  1562742000   \n",
       "2  International   (9, 7, 2019)  1562655600   \n",
       "3       American   (9, 7, 2019)  1562655600   \n",
       "4  International   (9, 7, 2019)  1562655600   \n",
       "\n",
       "                                                  17  \n",
       "0                                                NaN  \n",
       "1                                   Got email today!  \n",
       "2  Top Student\\nIELTS: 7.5\\nContacted Supervisor\\...  \n",
       "3                                                NaN  \n",
       "4                                                NaN  "
      ]
     },
     "execution_count": 210,
     "metadata": {},
     "output_type": "execute_result"
    }
   ],
   "source": [
    "data.head()"
   ]
  },
  {
   "cell_type": "code",
   "execution_count": 211,
   "id": "012e9cad",
   "metadata": {},
   "outputs": [
    {
     "data": {
      "text/html": [
       "<div>\n",
       "<style scoped>\n",
       "    .dataframe tbody tr th:only-of-type {\n",
       "        vertical-align: middle;\n",
       "    }\n",
       "\n",
       "    .dataframe tbody tr th {\n",
       "        vertical-align: top;\n",
       "    }\n",
       "\n",
       "    .dataframe thead th {\n",
       "        text-align: right;\n",
       "    }\n",
       "</style>\n",
       "<table border=\"1\" class=\"dataframe\">\n",
       "  <thead>\n",
       "    <tr style=\"text-align: right;\">\n",
       "      <th></th>\n",
       "      <th>univName</th>\n",
       "      <th>major</th>\n",
       "      <th>program</th>\n",
       "      <th>season</th>\n",
       "      <th>decision</th>\n",
       "      <th>Method</th>\n",
       "      <th>decdate</th>\n",
       "      <th>decdate_ts</th>\n",
       "      <th>cgpa</th>\n",
       "      <th>greV</th>\n",
       "      <th>greQ</th>\n",
       "      <th>greA</th>\n",
       "      <th>is_new_gre</th>\n",
       "      <th>gre_subject</th>\n",
       "      <th>status</th>\n",
       "      <th>post_data</th>\n",
       "      <th>post_timestamp</th>\n",
       "      <th>comments</th>\n",
       "    </tr>\n",
       "  </thead>\n",
       "  <tbody>\n",
       "    <tr>\n",
       "      <th>0</th>\n",
       "      <td>University Of Waterloo</td>\n",
       "      <td>Systems Design Engineering</td>\n",
       "      <td>MS</td>\n",
       "      <td>NaN</td>\n",
       "      <td>Accepted</td>\n",
       "      <td>Website</td>\n",
       "      <td>(1, 7, 2019)</td>\n",
       "      <td>1.561964e+09</td>\n",
       "      <td>NaN</td>\n",
       "      <td>NaN</td>\n",
       "      <td>NaN</td>\n",
       "      <td>NaN</td>\n",
       "      <td>NaN</td>\n",
       "      <td>NaN</td>\n",
       "      <td>International</td>\n",
       "      <td>(10, 7, 2019)</td>\n",
       "      <td>1562742000</td>\n",
       "      <td>NaN</td>\n",
       "    </tr>\n",
       "    <tr>\n",
       "      <th>1</th>\n",
       "      <td>Northeastern University</td>\n",
       "      <td>Electrical Engineering</td>\n",
       "      <td>PhD</td>\n",
       "      <td>F19</td>\n",
       "      <td>Rejected</td>\n",
       "      <td>Website</td>\n",
       "      <td>(8, 7, 2019)</td>\n",
       "      <td>1.562569e+09</td>\n",
       "      <td>NaN</td>\n",
       "      <td>NaN</td>\n",
       "      <td>NaN</td>\n",
       "      <td>NaN</td>\n",
       "      <td>NaN</td>\n",
       "      <td>NaN</td>\n",
       "      <td>NaN</td>\n",
       "      <td>(10, 7, 2019)</td>\n",
       "      <td>1562742000</td>\n",
       "      <td>Got email today!</td>\n",
       "    </tr>\n",
       "    <tr>\n",
       "      <th>2</th>\n",
       "      <td>The University Of Auckland</td>\n",
       "      <td>Electrical And Electronic Engineering</td>\n",
       "      <td>MS</td>\n",
       "      <td>NaN</td>\n",
       "      <td>Accepted</td>\n",
       "      <td>Website</td>\n",
       "      <td>(19, 6, 2019)</td>\n",
       "      <td>1.560928e+09</td>\n",
       "      <td>NaN</td>\n",
       "      <td>NaN</td>\n",
       "      <td>NaN</td>\n",
       "      <td>NaN</td>\n",
       "      <td>NaN</td>\n",
       "      <td>NaN</td>\n",
       "      <td>International</td>\n",
       "      <td>(9, 7, 2019)</td>\n",
       "      <td>1562655600</td>\n",
       "      <td>Top Student\\nIELTS: 7.5\\nContacted Supervisor\\...</td>\n",
       "    </tr>\n",
       "    <tr>\n",
       "      <th>3</th>\n",
       "      <td>Radford University</td>\n",
       "      <td>Counseling Psychology PsyD.</td>\n",
       "      <td>Other</td>\n",
       "      <td>F19</td>\n",
       "      <td>Accepted</td>\n",
       "      <td>Phone</td>\n",
       "      <td>(4, 3, 2019)</td>\n",
       "      <td>1.551686e+09</td>\n",
       "      <td>NaN</td>\n",
       "      <td>NaN</td>\n",
       "      <td>NaN</td>\n",
       "      <td>NaN</td>\n",
       "      <td>NaN</td>\n",
       "      <td>NaN</td>\n",
       "      <td>American</td>\n",
       "      <td>(9, 7, 2019)</td>\n",
       "      <td>1562655600</td>\n",
       "      <td>NaN</td>\n",
       "    </tr>\n",
       "    <tr>\n",
       "      <th>4</th>\n",
       "      <td>University Of Chittagong</td>\n",
       "      <td>Computer Science</td>\n",
       "      <td>MS</td>\n",
       "      <td>NaN</td>\n",
       "      <td>NaN</td>\n",
       "      <td>Other</td>\n",
       "      <td>(9, 7, 2019)</td>\n",
       "      <td>1.562656e+09</td>\n",
       "      <td>3.2</td>\n",
       "      <td>163.0</td>\n",
       "      <td>168.0</td>\n",
       "      <td>4.0</td>\n",
       "      <td>True</td>\n",
       "      <td>NaN</td>\n",
       "      <td>International</td>\n",
       "      <td>(9, 7, 2019)</td>\n",
       "      <td>1562655600</td>\n",
       "      <td>NaN</td>\n",
       "    </tr>\n",
       "  </tbody>\n",
       "</table>\n",
       "</div>"
      ],
      "text/plain": [
       "                     univName                                  major program  \\\n",
       "0      University Of Waterloo             Systems Design Engineering      MS   \n",
       "1     Northeastern University                 Electrical Engineering     PhD   \n",
       "2  The University Of Auckland  Electrical And Electronic Engineering      MS   \n",
       "3          Radford University            Counseling Psychology PsyD.   Other   \n",
       "4    University Of Chittagong                       Computer Science      MS   \n",
       "\n",
       "  season  decision   Method        decdate    decdate_ts  cgpa   greV   greQ  \\\n",
       "0    NaN  Accepted  Website   (1, 7, 2019)  1.561964e+09   NaN    NaN    NaN   \n",
       "1    F19  Rejected  Website   (8, 7, 2019)  1.562569e+09   NaN    NaN    NaN   \n",
       "2    NaN  Accepted  Website  (19, 6, 2019)  1.560928e+09   NaN    NaN    NaN   \n",
       "3    F19  Accepted    Phone   (4, 3, 2019)  1.551686e+09   NaN    NaN    NaN   \n",
       "4    NaN       NaN    Other   (9, 7, 2019)  1.562656e+09   3.2  163.0  168.0   \n",
       "\n",
       "   greA is_new_gre  gre_subject         status      post_data  post_timestamp  \\\n",
       "0   NaN        NaN          NaN  International  (10, 7, 2019)      1562742000   \n",
       "1   NaN        NaN          NaN            NaN  (10, 7, 2019)      1562742000   \n",
       "2   NaN        NaN          NaN  International   (9, 7, 2019)      1562655600   \n",
       "3   NaN        NaN          NaN       American   (9, 7, 2019)      1562655600   \n",
       "4   4.0       True          NaN  International   (9, 7, 2019)      1562655600   \n",
       "\n",
       "                                            comments  \n",
       "0                                                NaN  \n",
       "1                                   Got email today!  \n",
       "2  Top Student\\nIELTS: 7.5\\nContacted Supervisor\\...  \n",
       "3                                                NaN  \n",
       "4                                                NaN  "
      ]
     },
     "execution_count": 211,
     "metadata": {},
     "output_type": "execute_result"
    }
   ],
   "source": [
    "# Naming the columns\n",
    "\n",
    "data.drop(data.columns[data.columns.str.contains('unnamed',case = False)],axis = 1, inplace = True)\n",
    "data.columns = ['univName', 'major', 'program', 'season', 'decision', 'Method', 'decdate', 'decdate_ts', 'cgpa', 'greV', 'greQ', \n",
    "           'greA', 'is_new_gre', 'gre_subject','status', 'post_data', 'post_timestamp', 'comments']\n",
    "data.head()"
   ]
  },
  {
   "cell_type": "code",
   "execution_count": 212,
   "id": "0ebcb73e",
   "metadata": {},
   "outputs": [
    {
     "data": {
      "text/plain": [
       "univName               0\n",
       "major                  7\n",
       "program                0\n",
       "season             51408\n",
       "decision           56221\n",
       "Method              1037\n",
       "decdate              801\n",
       "decdate_ts           801\n",
       "cgpa              371053\n",
       "greV              361978\n",
       "greQ              361978\n",
       "greA              366199\n",
       "is_new_gre        361978\n",
       "gre_subject       468369\n",
       "status             44751\n",
       "post_data              0\n",
       "post_timestamp         0\n",
       "comments          175550\n",
       "dtype: int64"
      ]
     },
     "execution_count": 212,
     "metadata": {},
     "output_type": "execute_result"
    }
   ],
   "source": [
    "data.isnull().sum()"
   ]
  },
  {
   "cell_type": "code",
   "execution_count": 213,
   "id": "b67379eb",
   "metadata": {},
   "outputs": [
    {
     "data": {
      "text/html": [
       "<div>\n",
       "<style scoped>\n",
       "    .dataframe tbody tr th:only-of-type {\n",
       "        vertical-align: middle;\n",
       "    }\n",
       "\n",
       "    .dataframe tbody tr th {\n",
       "        vertical-align: top;\n",
       "    }\n",
       "\n",
       "    .dataframe thead th {\n",
       "        text-align: right;\n",
       "    }\n",
       "</style>\n",
       "<table border=\"1\" class=\"dataframe\">\n",
       "  <thead>\n",
       "    <tr style=\"text-align: right;\">\n",
       "      <th></th>\n",
       "      <th>decdate_ts</th>\n",
       "      <th>cgpa</th>\n",
       "      <th>greV</th>\n",
       "      <th>greQ</th>\n",
       "      <th>greA</th>\n",
       "      <th>gre_subject</th>\n",
       "      <th>post_timestamp</th>\n",
       "    </tr>\n",
       "  </thead>\n",
       "  <tbody>\n",
       "    <tr>\n",
       "      <th>count</th>\n",
       "      <td>4.844490e+05</td>\n",
       "      <td>114197.000000</td>\n",
       "      <td>123272.000000</td>\n",
       "      <td>123272.000000</td>\n",
       "      <td>119051.000000</td>\n",
       "      <td>16881.000000</td>\n",
       "      <td>4.852500e+05</td>\n",
       "    </tr>\n",
       "    <tr>\n",
       "      <th>mean</th>\n",
       "      <td>1.403658e+09</td>\n",
       "      <td>3.707664</td>\n",
       "      <td>232.827544</td>\n",
       "      <td>250.205829</td>\n",
       "      <td>4.284211</td>\n",
       "      <td>786.055328</td>\n",
       "      <td>1.403532e+09</td>\n",
       "    </tr>\n",
       "    <tr>\n",
       "      <th>std</th>\n",
       "      <td>2.832563e+08</td>\n",
       "      <td>0.515373</td>\n",
       "      <td>176.167467</td>\n",
       "      <td>209.725188</td>\n",
       "      <td>0.791555</td>\n",
       "      <td>122.957296</td>\n",
       "      <td>1.080451e+08</td>\n",
       "    </tr>\n",
       "    <tr>\n",
       "      <th>min</th>\n",
       "      <td>-1.000000e+00</td>\n",
       "      <td>0.400000</td>\n",
       "      <td>130.000000</td>\n",
       "      <td>130.000000</td>\n",
       "      <td>0.300000</td>\n",
       "      <td>200.000000</td>\n",
       "      <td>1.139386e+09</td>\n",
       "    </tr>\n",
       "    <tr>\n",
       "      <th>25%</th>\n",
       "      <td>1.328861e+09</td>\n",
       "      <td>3.500000</td>\n",
       "      <td>155.000000</td>\n",
       "      <td>157.000000</td>\n",
       "      <td>4.000000</td>\n",
       "      <td>700.000000</td>\n",
       "      <td>1.329206e+09</td>\n",
       "    </tr>\n",
       "    <tr>\n",
       "      <th>50%</th>\n",
       "      <td>1.422950e+09</td>\n",
       "      <td>3.730000</td>\n",
       "      <td>161.000000</td>\n",
       "      <td>164.000000</td>\n",
       "      <td>4.500000</td>\n",
       "      <td>790.000000</td>\n",
       "      <td>1.423210e+09</td>\n",
       "    </tr>\n",
       "    <tr>\n",
       "      <th>75%</th>\n",
       "      <td>1.489648e+09</td>\n",
       "      <td>3.900000</td>\n",
       "      <td>167.000000</td>\n",
       "      <td>170.000000</td>\n",
       "      <td>5.000000</td>\n",
       "      <td>880.000000</td>\n",
       "      <td>1.489993e+09</td>\n",
       "    </tr>\n",
       "    <tr>\n",
       "      <th>max</th>\n",
       "      <td>1.720521e+11</td>\n",
       "      <td>9.990000</td>\n",
       "      <td>800.000000</td>\n",
       "      <td>800.000000</td>\n",
       "      <td>6.000000</td>\n",
       "      <td>990.000000</td>\n",
       "      <td>1.562742e+09</td>\n",
       "    </tr>\n",
       "  </tbody>\n",
       "</table>\n",
       "</div>"
      ],
      "text/plain": [
       "         decdate_ts           cgpa           greV           greQ  \\\n",
       "count  4.844490e+05  114197.000000  123272.000000  123272.000000   \n",
       "mean   1.403658e+09       3.707664     232.827544     250.205829   \n",
       "std    2.832563e+08       0.515373     176.167467     209.725188   \n",
       "min   -1.000000e+00       0.400000     130.000000     130.000000   \n",
       "25%    1.328861e+09       3.500000     155.000000     157.000000   \n",
       "50%    1.422950e+09       3.730000     161.000000     164.000000   \n",
       "75%    1.489648e+09       3.900000     167.000000     170.000000   \n",
       "max    1.720521e+11       9.990000     800.000000     800.000000   \n",
       "\n",
       "                greA   gre_subject  post_timestamp  \n",
       "count  119051.000000  16881.000000    4.852500e+05  \n",
       "mean        4.284211    786.055328    1.403532e+09  \n",
       "std         0.791555    122.957296    1.080451e+08  \n",
       "min         0.300000    200.000000    1.139386e+09  \n",
       "25%         4.000000    700.000000    1.329206e+09  \n",
       "50%         4.500000    790.000000    1.423210e+09  \n",
       "75%         5.000000    880.000000    1.489993e+09  \n",
       "max         6.000000    990.000000    1.562742e+09  "
      ]
     },
     "execution_count": 213,
     "metadata": {},
     "output_type": "execute_result"
    }
   ],
   "source": [
    "data.describe()"
   ]
  },
  {
   "cell_type": "markdown",
   "id": "b110b2f6",
   "metadata": {},
   "source": [
    "# Data Cleaning"
   ]
  },
  {
   "cell_type": "code",
   "execution_count": 214,
   "id": "e90df9ba",
   "metadata": {},
   "outputs": [
    {
     "data": {
      "text/plain": [
       "univName              0\n",
       "major                 1\n",
       "program               0\n",
       "season               62\n",
       "decision           2863\n",
       "Method               13\n",
       "decdate              33\n",
       "decdate_ts           33\n",
       "cgpa                  0\n",
       "greV                  0\n",
       "greQ                  0\n",
       "greA                  0\n",
       "is_new_gre            0\n",
       "gre_subject       86192\n",
       "status             3262\n",
       "post_data             0\n",
       "post_timestamp        0\n",
       "comments          32178\n",
       "dtype: int64"
      ]
     },
     "execution_count": 214,
     "metadata": {},
     "output_type": "execute_result"
    }
   ],
   "source": [
    "# Selecting NOT NULL values of important parameters\n",
    "\n",
    "data = data[pd.notnull(data['greQ'])]\n",
    "data = data[pd.notnull(data['greA'])]\n",
    "data.query('cgpa < 4',inplace = True) \n",
    "data.isnull().sum()"
   ]
  },
  {
   "cell_type": "code",
   "execution_count": 215,
   "id": "aaf96d52",
   "metadata": {},
   "outputs": [
    {
     "data": {
      "text/plain": [
       "univName              0\n",
       "major                 0\n",
       "program               0\n",
       "season                0\n",
       "decision              0\n",
       "Method                0\n",
       "decdate              17\n",
       "decdate_ts           17\n",
       "cgpa                  0\n",
       "greV                  0\n",
       "greQ                  0\n",
       "greA                  0\n",
       "is_new_gre            0\n",
       "gre_subject       83661\n",
       "status             3171\n",
       "post_data             0\n",
       "post_timestamp        0\n",
       "comments          32070\n",
       "dtype: int64"
      ]
     },
     "execution_count": 215,
     "metadata": {},
     "output_type": "execute_result"
    }
   ],
   "source": [
    "# Selecting the NOT Null values\n",
    "\n",
    "data=data.dropna(subset = ['decision'])\n",
    "data=data.dropna(subset = ['season'])\n",
    "data=data.dropna(subset = ['major'])\n",
    "data.isnull().sum()"
   ]
  },
  {
   "cell_type": "code",
   "execution_count": 216,
   "id": "01effcfe",
   "metadata": {},
   "outputs": [],
   "source": [
    "#Filling null values in status by others and droping columns not used\n",
    "\n",
    "data['status']= data['status'].fillna('Other')\n",
    "data = data.drop(columns=['decdate_ts','decdate', 'post_data','post_timestamp','comments','is_new_gre','gre_subject'])"
   ]
  },
  {
   "cell_type": "code",
   "execution_count": 217,
   "id": "f2a5fce8",
   "metadata": {},
   "outputs": [
    {
     "data": {
      "text/html": [
       "<div>\n",
       "<style scoped>\n",
       "    .dataframe tbody tr th:only-of-type {\n",
       "        vertical-align: middle;\n",
       "    }\n",
       "\n",
       "    .dataframe tbody tr th {\n",
       "        vertical-align: top;\n",
       "    }\n",
       "\n",
       "    .dataframe thead th {\n",
       "        text-align: right;\n",
       "    }\n",
       "</style>\n",
       "<table border=\"1\" class=\"dataframe\">\n",
       "  <thead>\n",
       "    <tr style=\"text-align: right;\">\n",
       "      <th></th>\n",
       "      <th>univName</th>\n",
       "      <th>major</th>\n",
       "      <th>program</th>\n",
       "      <th>season</th>\n",
       "      <th>decision</th>\n",
       "      <th>Method</th>\n",
       "      <th>cgpa</th>\n",
       "      <th>greV</th>\n",
       "      <th>greQ</th>\n",
       "      <th>greA</th>\n",
       "      <th>status</th>\n",
       "    </tr>\n",
       "  </thead>\n",
       "  <tbody>\n",
       "    <tr>\n",
       "      <th>7</th>\n",
       "      <td>New York University (NYU) - Steinhardt</td>\n",
       "      <td>Communication Sciences And Disorders</td>\n",
       "      <td>MS</td>\n",
       "      <td>F19</td>\n",
       "      <td>Accepted</td>\n",
       "      <td>E-mail</td>\n",
       "      <td>3.59</td>\n",
       "      <td>157.0</td>\n",
       "      <td>147.0</td>\n",
       "      <td>4.0</td>\n",
       "      <td>American</td>\n",
       "    </tr>\n",
       "    <tr>\n",
       "      <th>17</th>\n",
       "      <td>Texas A&amp;M University</td>\n",
       "      <td>International Affairs</td>\n",
       "      <td>MS</td>\n",
       "      <td>F19</td>\n",
       "      <td>Accepted</td>\n",
       "      <td>E-mail</td>\n",
       "      <td>3.57</td>\n",
       "      <td>157.0</td>\n",
       "      <td>151.0</td>\n",
       "      <td>5.5</td>\n",
       "      <td>American</td>\n",
       "    </tr>\n",
       "    <tr>\n",
       "      <th>33</th>\n",
       "      <td>Iowa State University</td>\n",
       "      <td>Computer Science</td>\n",
       "      <td>PhD</td>\n",
       "      <td>F19</td>\n",
       "      <td>Rejected</td>\n",
       "      <td>Website</td>\n",
       "      <td>3.90</td>\n",
       "      <td>159.0</td>\n",
       "      <td>170.0</td>\n",
       "      <td>5.0</td>\n",
       "      <td>International</td>\n",
       "    </tr>\n",
       "    <tr>\n",
       "      <th>46</th>\n",
       "      <td>University Of California, Irvine</td>\n",
       "      <td>Biotechnology Management</td>\n",
       "      <td>MS</td>\n",
       "      <td>F19</td>\n",
       "      <td>Accepted</td>\n",
       "      <td>E-mail</td>\n",
       "      <td>3.66</td>\n",
       "      <td>155.0</td>\n",
       "      <td>167.0</td>\n",
       "      <td>4.0</td>\n",
       "      <td>International</td>\n",
       "    </tr>\n",
       "    <tr>\n",
       "      <th>58</th>\n",
       "      <td>University Of Colorado, Boulder</td>\n",
       "      <td>Materials Science And Engineering</td>\n",
       "      <td>PhD</td>\n",
       "      <td>F19</td>\n",
       "      <td>Rejected</td>\n",
       "      <td>E-mail</td>\n",
       "      <td>3.58</td>\n",
       "      <td>159.0</td>\n",
       "      <td>160.0</td>\n",
       "      <td>4.0</td>\n",
       "      <td>American</td>\n",
       "    </tr>\n",
       "    <tr>\n",
       "      <th>64</th>\n",
       "      <td>Boston University</td>\n",
       "      <td>Psychology</td>\n",
       "      <td>MS</td>\n",
       "      <td>F19</td>\n",
       "      <td>Accepted</td>\n",
       "      <td>E-mail</td>\n",
       "      <td>3.10</td>\n",
       "      <td>161.0</td>\n",
       "      <td>157.0</td>\n",
       "      <td>4.0</td>\n",
       "      <td>American</td>\n",
       "    </tr>\n",
       "    <tr>\n",
       "      <th>70</th>\n",
       "      <td>New York University (NYU) Steinhardt</td>\n",
       "      <td>Speech Language Pathology (Online)</td>\n",
       "      <td>MS</td>\n",
       "      <td>F19</td>\n",
       "      <td>Accepted</td>\n",
       "      <td>E-mail</td>\n",
       "      <td>3.68</td>\n",
       "      <td>149.0</td>\n",
       "      <td>157.0</td>\n",
       "      <td>3.0</td>\n",
       "      <td>American</td>\n",
       "    </tr>\n",
       "    <tr>\n",
       "      <th>74</th>\n",
       "      <td>New York University ( NYU)</td>\n",
       "      <td>Computer Science</td>\n",
       "      <td>PhD</td>\n",
       "      <td>F19</td>\n",
       "      <td>Rejected</td>\n",
       "      <td>Website</td>\n",
       "      <td>3.82</td>\n",
       "      <td>146.0</td>\n",
       "      <td>170.0</td>\n",
       "      <td>3.5</td>\n",
       "      <td>International</td>\n",
       "    </tr>\n",
       "    <tr>\n",
       "      <th>82</th>\n",
       "      <td>University Of Texas Health Science Center At T...</td>\n",
       "      <td>Biotechnology</td>\n",
       "      <td>MS</td>\n",
       "      <td>F19</td>\n",
       "      <td>Accepted</td>\n",
       "      <td>E-mail</td>\n",
       "      <td>3.12</td>\n",
       "      <td>153.0</td>\n",
       "      <td>150.0</td>\n",
       "      <td>3.0</td>\n",
       "      <td>International</td>\n",
       "    </tr>\n",
       "    <tr>\n",
       "      <th>122</th>\n",
       "      <td>Southern Illinois University, Carbondale</td>\n",
       "      <td>Child Clinical Psychology</td>\n",
       "      <td>PhD</td>\n",
       "      <td>F19</td>\n",
       "      <td>Rejected</td>\n",
       "      <td>E-mail</td>\n",
       "      <td>3.79</td>\n",
       "      <td>159.0</td>\n",
       "      <td>150.0</td>\n",
       "      <td>5.0</td>\n",
       "      <td>American</td>\n",
       "    </tr>\n",
       "  </tbody>\n",
       "</table>\n",
       "</div>"
      ],
      "text/plain": [
       "                                              univName  \\\n",
       "7               New York University (NYU) - Steinhardt   \n",
       "17                                Texas A&M University   \n",
       "33                               Iowa State University   \n",
       "46                    University Of California, Irvine   \n",
       "58                     University Of Colorado, Boulder   \n",
       "64                                   Boston University   \n",
       "70                New York University (NYU) Steinhardt   \n",
       "74                          New York University ( NYU)   \n",
       "82   University Of Texas Health Science Center At T...   \n",
       "122           Southern Illinois University, Carbondale   \n",
       "\n",
       "                                    major program season  decision   Method  \\\n",
       "7    Communication Sciences And Disorders      MS    F19  Accepted   E-mail   \n",
       "17                  International Affairs      MS    F19  Accepted   E-mail   \n",
       "33                       Computer Science     PhD    F19  Rejected  Website   \n",
       "46               Biotechnology Management      MS    F19  Accepted   E-mail   \n",
       "58      Materials Science And Engineering     PhD    F19  Rejected   E-mail   \n",
       "64                             Psychology      MS    F19  Accepted   E-mail   \n",
       "70     Speech Language Pathology (Online)      MS    F19  Accepted   E-mail   \n",
       "74                       Computer Science     PhD    F19  Rejected  Website   \n",
       "82                          Biotechnology      MS    F19  Accepted   E-mail   \n",
       "122             Child Clinical Psychology     PhD    F19  Rejected   E-mail   \n",
       "\n",
       "     cgpa   greV   greQ  greA         status  \n",
       "7    3.59  157.0  147.0   4.0       American  \n",
       "17   3.57  157.0  151.0   5.5       American  \n",
       "33   3.90  159.0  170.0   5.0  International  \n",
       "46   3.66  155.0  167.0   4.0  International  \n",
       "58   3.58  159.0  160.0   4.0       American  \n",
       "64   3.10  161.0  157.0   4.0       American  \n",
       "70   3.68  149.0  157.0   3.0       American  \n",
       "74   3.82  146.0  170.0   3.5  International  \n",
       "82   3.12  153.0  150.0   3.0  International  \n",
       "122  3.79  159.0  150.0   5.0       American  "
      ]
     },
     "execution_count": 217,
     "metadata": {},
     "output_type": "execute_result"
    }
   ],
   "source": [
    "data.head(10)"
   ]
  },
  {
   "cell_type": "markdown",
   "id": "9214ab4f",
   "metadata": {},
   "source": [
    "### As you can see below we have cleaned the data and filled up the missing values"
   ]
  },
  {
   "cell_type": "code",
   "execution_count": 218,
   "id": "02f84be0",
   "metadata": {},
   "outputs": [
    {
     "data": {
      "text/plain": [
       "univName    0\n",
       "major       0\n",
       "program     0\n",
       "season      0\n",
       "decision    0\n",
       "Method      0\n",
       "cgpa        0\n",
       "greV        0\n",
       "greQ        0\n",
       "greA        0\n",
       "status      0\n",
       "dtype: int64"
      ]
     },
     "execution_count": 218,
     "metadata": {},
     "output_type": "execute_result"
    }
   ],
   "source": [
    "data.isnull().sum()"
   ]
  },
  {
   "cell_type": "markdown",
   "id": "0e3d4662",
   "metadata": {},
   "source": [
    "### Our Data is historic so it consists of Older GRE Scores which was out of 800, Below we convert those scores to current GRE standards thats 130 - 170"
   ]
  },
  {
   "cell_type": "code",
   "execution_count": 219,
   "id": "a572b788",
   "metadata": {},
   "outputs": [],
   "source": [
    "def convert_quant_score(quant_score):\n",
    "    quant_list = []\n",
    "    quant_score = quant_score.tolist()\n",
    "    for old_quant in quant_score:\n",
    "        if old_quant <= 170:\n",
    "            quant_list.append(old_quant)\n",
    "            continue\n",
    "        else:\n",
    "            old_quant = old_quant/4.7\n",
    "            if old_quant <=130:\n",
    "                quant_list.append(130)\n",
    "            else:\n",
    "                quant_list.append(old_quant)\n",
    "    return quant_list\n",
    "\n",
    "def convert_verbal_score(verbal_score):\n",
    "    verbal_list = []\n",
    "    verbal_score = verbal_score.tolist()\n",
    "    for old_verbal in verbal_score:\n",
    "        if old_verbal <= 170:\n",
    "            verbal_list.append(old_verbal)\n",
    "            continue\n",
    "        else:\n",
    "            old_verbal = old_verbal/4.7\n",
    "            if old_verbal <=130:\n",
    "                verbal_list.append(130)\n",
    "            else:\n",
    "                verbal_list.append(old_verbal)\n",
    "    return verbal_list\n",
    "\n",
    "data['greQ'] = convert_quant_score(data['greQ'])\n",
    "data['greV'] = convert_verbal_score(data['greV'])"
   ]
  },
  {
   "cell_type": "markdown",
   "id": "a6b659b9",
   "metadata": {},
   "source": [
    "### As you can see below we have converted the GRE scores to current standards"
   ]
  },
  {
   "cell_type": "code",
   "execution_count": 220,
   "id": "96eecee8",
   "metadata": {},
   "outputs": [
    {
     "data": {
      "text/html": [
       "<div>\n",
       "<style scoped>\n",
       "    .dataframe tbody tr th:only-of-type {\n",
       "        vertical-align: middle;\n",
       "    }\n",
       "\n",
       "    .dataframe tbody tr th {\n",
       "        vertical-align: top;\n",
       "    }\n",
       "\n",
       "    .dataframe thead th {\n",
       "        text-align: right;\n",
       "    }\n",
       "</style>\n",
       "<table border=\"1\" class=\"dataframe\">\n",
       "  <thead>\n",
       "    <tr style=\"text-align: right;\">\n",
       "      <th></th>\n",
       "      <th>cgpa</th>\n",
       "      <th>greV</th>\n",
       "      <th>greQ</th>\n",
       "      <th>greA</th>\n",
       "    </tr>\n",
       "  </thead>\n",
       "  <tbody>\n",
       "    <tr>\n",
       "      <th>count</th>\n",
       "      <td>95809.000000</td>\n",
       "      <td>95809.000000</td>\n",
       "      <td>95809.000000</td>\n",
       "      <td>95809.000000</td>\n",
       "    </tr>\n",
       "    <tr>\n",
       "      <th>mean</th>\n",
       "      <td>3.644998</td>\n",
       "      <td>155.826371</td>\n",
       "      <td>159.697402</td>\n",
       "      <td>4.285502</td>\n",
       "    </tr>\n",
       "    <tr>\n",
       "      <th>std</th>\n",
       "      <td>0.273268</td>\n",
       "      <td>10.277027</td>\n",
       "      <td>8.990741</td>\n",
       "      <td>0.789896</td>\n",
       "    </tr>\n",
       "    <tr>\n",
       "      <th>min</th>\n",
       "      <td>0.400000</td>\n",
       "      <td>130.000000</td>\n",
       "      <td>130.000000</td>\n",
       "      <td>0.300000</td>\n",
       "    </tr>\n",
       "    <tr>\n",
       "      <th>25%</th>\n",
       "      <td>3.500000</td>\n",
       "      <td>151.000000</td>\n",
       "      <td>154.000000</td>\n",
       "      <td>4.000000</td>\n",
       "    </tr>\n",
       "    <tr>\n",
       "      <th>50%</th>\n",
       "      <td>3.700000</td>\n",
       "      <td>158.000000</td>\n",
       "      <td>161.000000</td>\n",
       "      <td>4.500000</td>\n",
       "    </tr>\n",
       "    <tr>\n",
       "      <th>75%</th>\n",
       "      <td>3.860000</td>\n",
       "      <td>163.000000</td>\n",
       "      <td>167.000000</td>\n",
       "      <td>5.000000</td>\n",
       "    </tr>\n",
       "    <tr>\n",
       "      <th>max</th>\n",
       "      <td>3.990000</td>\n",
       "      <td>170.212766</td>\n",
       "      <td>170.212766</td>\n",
       "      <td>6.000000</td>\n",
       "    </tr>\n",
       "  </tbody>\n",
       "</table>\n",
       "</div>"
      ],
      "text/plain": [
       "               cgpa          greV          greQ          greA\n",
       "count  95809.000000  95809.000000  95809.000000  95809.000000\n",
       "mean       3.644998    155.826371    159.697402      4.285502\n",
       "std        0.273268     10.277027      8.990741      0.789896\n",
       "min        0.400000    130.000000    130.000000      0.300000\n",
       "25%        3.500000    151.000000    154.000000      4.000000\n",
       "50%        3.700000    158.000000    161.000000      4.500000\n",
       "75%        3.860000    163.000000    167.000000      5.000000\n",
       "max        3.990000    170.212766    170.212766      6.000000"
      ]
     },
     "execution_count": 220,
     "metadata": {},
     "output_type": "execute_result"
    }
   ],
   "source": [
    "data.describe()"
   ]
  },
  {
   "cell_type": "code",
   "execution_count": 221,
   "id": "b1d4e3d0",
   "metadata": {},
   "outputs": [],
   "source": [
    "data2 = data  #data for modelling"
   ]
  },
  {
   "cell_type": "markdown",
   "id": "9990b9be",
   "metadata": {},
   "source": [
    "# EXPLORATORY DATA ANALYSIS "
   ]
  },
  {
   "cell_type": "markdown",
   "id": "e24b5cfd",
   "metadata": {},
   "source": [
    "## Mean GRE scores across different Degrees"
   ]
  },
  {
   "cell_type": "code",
   "execution_count": 223,
   "id": "fe1c2f72",
   "metadata": {},
   "outputs": [
    {
     "name": "stdout",
     "output_type": "stream",
     "text": [
      "Mean Gre Scores for MS : [154.62137768039108, 157.54543898593164, 4.213057092725064]\n",
      "Mean Gre Scores for PHD : [156.63377895267496, 161.31669547568123, 4.328063764431734]\n",
      "Mean Gre Scores for Others : [154.85909562673962, 153.97548002075757, 4.382815964523282]\n"
     ]
    },
    {
     "data": {
      "image/png": "[encoded data removed]",
      "text/plain": [
       "<Figure size 576x1152 with 3 Axes>"
      ]
     },
     "metadata": {
      "needs_background": "light"
     },
     "output_type": "display_data"
    }
   ],
   "source": [
    "def meanValues(data):\n",
    " return [np.mean(data[\"greV\"]),np.mean(data[\"greQ\"]),np.mean(data[\"greA\"])]\n",
    "\n",
    "pd.unique(data[\"program\"])\n",
    "ms_data = data[data[\"program\"]==\"MS\"]\n",
    "mean_ms = meanValues(ms_data)\n",
    "\n",
    "phd_data = data[data[\"program\"]==\"PhD\"]\n",
    "mean_PhD = meanValues(phd_data)\n",
    "\n",
    "other_val = data[data[\"program\"]==\"Other\"]\n",
    "mean_other = meanValues(other_val)\n",
    "\n",
    "df = pd.DataFrame([mean_ms,mean_PhD,mean_other],columns = [\"GRE_Verbal\",\"GRE_Quants\",\"GRE_A\"], index = [\"MS\",\"PhD\",\"Other\"])\n",
    "\n",
    "axes = df.plot.bar(rot=0, subplots=True, figsize=(8,16))\n",
    "axes[1].legend(loc=2)\n",
    "\n",
    "print('Mean Gre Scores for MS :',mean_ms)\n",
    "print('Mean Gre Scores for PHD :',mean_PhD)\n",
    "print('Mean Gre Scores for Others :',mean_other)"
   ]
  },
  {
   "cell_type": "markdown",
   "id": "3662058a",
   "metadata": {},
   "source": [
    "## Incoming Students each Season"
   ]
  },
  {
   "cell_type": "code",
   "execution_count": 172,
   "id": "e4422091",
   "metadata": {},
   "outputs": [
    {
     "data": {
      "text/plain": [
       "<AxesSubplot:xlabel='season'>"
      ]
     },
     "execution_count": 172,
     "metadata": {},
     "output_type": "execute_result"
    },
    {
     "data": {
      "image/png": "[encoded data removed]",
      "text/plain": [
       "<Figure size 576x360 with 1 Axes>"
      ]
     },
     "metadata": {
      "needs_background": "light"
     },
     "output_type": "display_data"
    }
   ],
   "source": [
    "data_season = data[data['decision'] == \"Accepted\"].groupby(\"season\").count().decision\n",
    "data_season.plot.bar(figsize=(8,5))"
   ]
  },
  {
   "cell_type": "code",
   "execution_count": 173,
   "id": "8bbbfbff",
   "metadata": {},
   "outputs": [
    {
     "data": {
      "text/plain": [
       "season\n",
       "F09       8\n",
       "F10    1801\n",
       "F11    2619\n",
       "F12    3879\n",
       "F13    5294\n",
       "F14    5941\n",
       "F15    6274\n",
       "F16    5946\n",
       "F17    5288\n",
       "F18    5858\n",
       "F19    5553\n",
       "S10      37\n",
       "S11      42\n",
       "S12      61\n",
       "S13      75\n",
       "S14      91\n",
       "S15     125\n",
       "S16     135\n",
       "S17     123\n",
       "S18     108\n",
       "S19      84\n",
       "Name: decision, dtype: int64"
      ]
     },
     "execution_count": 173,
     "metadata": {},
     "output_type": "execute_result"
    }
   ],
   "source": [
    "data_season = data[data['decision'] == \"Accepted\"].groupby(\"season\").count().decision\n",
    "data_season"
   ]
  },
  {
   "cell_type": "markdown",
   "id": "db1e5b78",
   "metadata": {},
   "source": [
    "# Average Scores(GRE, CGPA) of Following top Universities"
   ]
  },
  {
   "cell_type": "markdown",
   "id": "b3c45e18",
   "metadata": {},
   "source": [
    "#### UC Berkeley  <br> University Of Pittsburgh <br>University Of Rochester <br>University Of Arizona <br>University Of Chicago <br>Pennsylvania State University <br>Harvard University <br>University Of Southern California <br>UC Santa Cruz <br>Stanford University <br>UCLA"
   ]
  },
  {
   "cell_type": "code",
   "execution_count": 227,
   "id": "c18d04b6",
   "metadata": {},
   "outputs": [
    {
     "name": "stdout",
     "output_type": "stream",
     "text": [
      "                                         greQ        greV\n",
      "univName                                                 \n",
      "UC Berkeley                        163.785594  160.163261\n",
      "University Of Pittsburgh           158.998234  156.407190\n",
      "University Of Rochester            162.124512  154.846667\n",
      "University Of Arizona              159.424645  156.523363\n",
      "University Of Chicago              161.671309  160.031686\n",
      "Pennsylvania State University      161.940668  154.702474\n",
      "Harvard University                 163.499352  159.048770\n",
      "University Of Southern California  162.085578  156.777797\n",
      "UC Santa Cruz                      162.947534  157.840184\n",
      "Stanford University                164.843766  156.566373\n",
      "UCLA                               162.373278  158.529373\n"
     ]
    },
    {
     "data": {
      "image/png": "[encoded data removed]",
      "text/plain": [
       "<Figure size 864x576 with 1 Axes>"
      ]
     },
     "metadata": {
      "needs_background": "light"
     },
     "output_type": "display_data"
    }
   ],
   "source": [
    "data.columns\n",
    "data_uni = data[[\"univName\",\"greQ\",\"greV\"]].groupby(\"univName\").mean()\n",
    "uni_list = ['UC Berkeley','University Of Pittsburgh','University Of Rochester','University Of Arizona','University Of Chicago','Pennsylvania State University','Harvard University','University Of Southern California','UC Santa Cruz','Stanford University','UCLA']\n",
    "data_uni = data_uni.filter(items=uni_list,axis=0)\n",
    "data_uni.head()\n",
    "data_uni.plot.bar(figsize=(12,8))\n",
    "\n",
    "print(data_uni)"
   ]
  },
  {
   "cell_type": "code",
   "execution_count": 225,
   "id": "4b8ac47f",
   "metadata": {},
   "outputs": [
    {
     "name": "stdout",
     "output_type": "stream",
     "text": [
      "                                       greA\n",
      "univName                                   \n",
      "UC Berkeley                        4.420534\n",
      "University Of Pittsburgh           4.353895\n",
      "University Of Rochester            4.153061\n",
      "University Of Arizona              4.350490\n",
      "University Of Chicago              4.549231\n",
      "Pennsylvania State University      4.125203\n",
      "Harvard University                 4.711130\n",
      "University Of Southern California  4.161895\n",
      "UC Santa Cruz                      4.443182\n",
      "Stanford University                4.450653\n",
      "UCLA                               4.275522\n"
     ]
    },
    {
     "data": {
      "image/png": "[encoded data removed]",
      "text/plain": [
       "<Figure size 720x360 with 1 Axes>"
      ]
     },
     "metadata": {
      "needs_background": "light"
     },
     "output_type": "display_data"
    }
   ],
   "source": [
    "data.columns\n",
    "data_uni = data[[\"univName\",\"greA\"]].groupby(\"univName\").mean()\n",
    "uni_list = ['UC Berkeley','University Of Pittsburgh','University Of Rochester','University Of Arizona','University Of Chicago','Pennsylvania State University','Harvard University','University Of Southern California','UC Santa Cruz','Stanford University','UCLA']\n",
    "data_uni = data_uni.filter(items=uni_list,axis=0)\n",
    "data_uni.head()\n",
    "data_uni.plot.bar(figsize=(10,5))\n",
    "\n",
    "print(data_uni)"
   ]
  },
  {
   "cell_type": "code",
   "execution_count": 226,
   "id": "02be1c48",
   "metadata": {},
   "outputs": [
    {
     "name": "stdout",
     "output_type": "stream",
     "text": [
      "                                       cgpa\n",
      "univName                                   \n",
      "UC Berkeley                        3.731053\n",
      "University Of Pittsburgh           3.642375\n",
      "University Of Rochester            3.608980\n",
      "University Of Arizona              3.652010\n",
      "University Of Chicago              3.726938\n",
      "Pennsylvania State University      3.609593\n",
      "Harvard University                 3.751896\n",
      "University Of Southern California  3.616109\n",
      "UC Santa Cruz                      3.619886\n",
      "Stanford University                3.755060\n",
      "UCLA                               3.679084\n"
     ]
    },
    {
     "data": {
      "image/png": "[encoded data removed]",
      "text/plain": [
       "<Figure size 864x432 with 1 Axes>"
      ]
     },
     "metadata": {
      "needs_background": "light"
     },
     "output_type": "display_data"
    }
   ],
   "source": [
    "data_uni = data[[\"univName\",\"cgpa\"]].groupby(\"univName\").mean()\n",
    "uni_list = ['UC Berkeley','University Of Pittsburgh','University Of Rochester','University Of Arizona','University Of Chicago','Pennsylvania State University','Harvard University','University Of Southern California','UC Santa Cruz','Stanford University','UCLA']\n",
    "data_uni = data_uni.filter(items=uni_list,axis=0)\n",
    "data_uni.head()\n",
    "data_uni.plot.bar(figsize=(12,6))\n",
    "\n",
    "print(data_uni)"
   ]
  },
  {
   "cell_type": "markdown",
   "id": "88924bd2",
   "metadata": {},
   "source": [
    "# Machine Learning Modelling"
   ]
  },
  {
   "cell_type": "markdown",
   "id": "02569c24",
   "metadata": {},
   "source": [
    "## K - Nearest Neighbors algorithm\n",
    "#### For KNN we have used the data where applicant got acceptance in universites"
   ]
  },
  {
   "cell_type": "code",
   "execution_count": 178,
   "id": "9008bd37",
   "metadata": {},
   "outputs": [
    {
     "data": {
      "text/plain": [
       "(49342, 11)"
      ]
     },
     "execution_count": 178,
     "metadata": {},
     "output_type": "execute_result"
    }
   ],
   "source": [
    "data = data[data['decision'] =='Accepted']\n",
    "data.shape"
   ]
  },
  {
   "cell_type": "markdown",
   "id": "ecebd066",
   "metadata": {},
   "source": [
    "#### Unique Universities in the Data"
   ]
  },
  {
   "cell_type": "code",
   "execution_count": 179,
   "id": "26969be2",
   "metadata": {},
   "outputs": [
    {
     "data": {
      "text/html": [
       "<div>\n",
       "<style scoped>\n",
       "    .dataframe tbody tr th:only-of-type {\n",
       "        vertical-align: middle;\n",
       "    }\n",
       "\n",
       "    .dataframe tbody tr th {\n",
       "        vertical-align: top;\n",
       "    }\n",
       "\n",
       "    .dataframe thead th {\n",
       "        text-align: right;\n",
       "    }\n",
       "</style>\n",
       "<table border=\"1\" class=\"dataframe\">\n",
       "  <thead>\n",
       "    <tr style=\"text-align: right;\">\n",
       "      <th></th>\n",
       "      <th>univName</th>\n",
       "    </tr>\n",
       "  </thead>\n",
       "  <tbody>\n",
       "    <tr>\n",
       "      <th>0</th>\n",
       "      <td>New York University (NYU) - Steinhardt</td>\n",
       "    </tr>\n",
       "    <tr>\n",
       "      <th>1</th>\n",
       "      <td>Texas A&amp;M University</td>\n",
       "    </tr>\n",
       "    <tr>\n",
       "      <th>2</th>\n",
       "      <td>University Of California, Irvine</td>\n",
       "    </tr>\n",
       "    <tr>\n",
       "      <th>3</th>\n",
       "      <td>Boston University</td>\n",
       "    </tr>\n",
       "    <tr>\n",
       "      <th>4</th>\n",
       "      <td>New York University (NYU) Steinhardt</td>\n",
       "    </tr>\n",
       "    <tr>\n",
       "      <th>...</th>\n",
       "      <td>...</td>\n",
       "    </tr>\n",
       "    <tr>\n",
       "      <th>4780</th>\n",
       "      <td>Columbia University GSAS</td>\n",
       "    </tr>\n",
       "    <tr>\n",
       "      <th>4781</th>\n",
       "      <td>New York University(NYU)</td>\n",
       "    </tr>\n",
       "    <tr>\n",
       "      <th>4782</th>\n",
       "      <td>DeVry University</td>\n",
       "    </tr>\n",
       "    <tr>\n",
       "      <th>4783</th>\n",
       "      <td>Oregon University</td>\n",
       "    </tr>\n",
       "    <tr>\n",
       "      <th>4784</th>\n",
       "      <td>University Of California, Santa Barbarba (UCSB)</td>\n",
       "    </tr>\n",
       "  </tbody>\n",
       "</table>\n",
       "<p>4785 rows × 1 columns</p>\n",
       "</div>"
      ],
      "text/plain": [
       "                                             univName\n",
       "0              New York University (NYU) - Steinhardt\n",
       "1                                Texas A&M University\n",
       "2                    University Of California, Irvine\n",
       "3                                   Boston University\n",
       "4                New York University (NYU) Steinhardt\n",
       "...                                               ...\n",
       "4780                         Columbia University GSAS\n",
       "4781                         New York University(NYU)\n",
       "4782                                 DeVry University\n",
       "4783                                Oregon University\n",
       "4784  University Of California, Santa Barbarba (UCSB)\n",
       "\n",
       "[4785 rows x 1 columns]"
      ]
     },
     "execution_count": 179,
     "metadata": {},
     "output_type": "execute_result"
    }
   ],
   "source": [
    "uni_names = data['univName'].unique()\n",
    "\n",
    "Unique_univs = pd.DataFrame({'univName':uni_names})\n",
    "Unique_univs"
   ]
  },
  {
   "cell_type": "code",
   "execution_count": 180,
   "id": "f5d81c37",
   "metadata": {},
   "outputs": [
    {
     "data": {
      "text/html": [
       "<div>\n",
       "<style scoped>\n",
       "    .dataframe tbody tr th:only-of-type {\n",
       "        vertical-align: middle;\n",
       "    }\n",
       "\n",
       "    .dataframe tbody tr th {\n",
       "        vertical-align: top;\n",
       "    }\n",
       "\n",
       "    .dataframe thead th {\n",
       "        text-align: right;\n",
       "    }\n",
       "</style>\n",
       "<table border=\"1\" class=\"dataframe\">\n",
       "  <thead>\n",
       "    <tr style=\"text-align: right;\">\n",
       "      <th></th>\n",
       "      <th>univName</th>\n",
       "      <th>major</th>\n",
       "      <th>program</th>\n",
       "      <th>season</th>\n",
       "      <th>decision</th>\n",
       "      <th>Method</th>\n",
       "      <th>cgpa</th>\n",
       "      <th>greV</th>\n",
       "      <th>greQ</th>\n",
       "      <th>greA</th>\n",
       "      <th>status</th>\n",
       "    </tr>\n",
       "  </thead>\n",
       "  <tbody>\n",
       "    <tr>\n",
       "      <th>7</th>\n",
       "      <td>New York University (NYU) - Steinhardt</td>\n",
       "      <td>Communication Sciences And Disorders</td>\n",
       "      <td>MS</td>\n",
       "      <td>F19</td>\n",
       "      <td>Accepted</td>\n",
       "      <td>E-mail</td>\n",
       "      <td>3.59</td>\n",
       "      <td>157.0</td>\n",
       "      <td>147.0</td>\n",
       "      <td>4.0</td>\n",
       "      <td>American</td>\n",
       "    </tr>\n",
       "    <tr>\n",
       "      <th>17</th>\n",
       "      <td>Texas A&amp;M University</td>\n",
       "      <td>International Affairs</td>\n",
       "      <td>MS</td>\n",
       "      <td>F19</td>\n",
       "      <td>Accepted</td>\n",
       "      <td>E-mail</td>\n",
       "      <td>3.57</td>\n",
       "      <td>157.0</td>\n",
       "      <td>151.0</td>\n",
       "      <td>5.5</td>\n",
       "      <td>American</td>\n",
       "    </tr>\n",
       "    <tr>\n",
       "      <th>46</th>\n",
       "      <td>University Of California, Irvine</td>\n",
       "      <td>Biotechnology Management</td>\n",
       "      <td>MS</td>\n",
       "      <td>F19</td>\n",
       "      <td>Accepted</td>\n",
       "      <td>E-mail</td>\n",
       "      <td>3.66</td>\n",
       "      <td>155.0</td>\n",
       "      <td>167.0</td>\n",
       "      <td>4.0</td>\n",
       "      <td>International</td>\n",
       "    </tr>\n",
       "    <tr>\n",
       "      <th>64</th>\n",
       "      <td>Boston University</td>\n",
       "      <td>Psychology</td>\n",
       "      <td>MS</td>\n",
       "      <td>F19</td>\n",
       "      <td>Accepted</td>\n",
       "      <td>E-mail</td>\n",
       "      <td>3.10</td>\n",
       "      <td>161.0</td>\n",
       "      <td>157.0</td>\n",
       "      <td>4.0</td>\n",
       "      <td>American</td>\n",
       "    </tr>\n",
       "    <tr>\n",
       "      <th>70</th>\n",
       "      <td>New York University (NYU) Steinhardt</td>\n",
       "      <td>Speech Language Pathology (Online)</td>\n",
       "      <td>MS</td>\n",
       "      <td>F19</td>\n",
       "      <td>Accepted</td>\n",
       "      <td>E-mail</td>\n",
       "      <td>3.68</td>\n",
       "      <td>149.0</td>\n",
       "      <td>157.0</td>\n",
       "      <td>3.0</td>\n",
       "      <td>American</td>\n",
       "    </tr>\n",
       "  </tbody>\n",
       "</table>\n",
       "</div>"
      ],
      "text/plain": [
       "                                  univName  \\\n",
       "7   New York University (NYU) - Steinhardt   \n",
       "17                    Texas A&M University   \n",
       "46        University Of California, Irvine   \n",
       "64                       Boston University   \n",
       "70    New York University (NYU) Steinhardt   \n",
       "\n",
       "                                   major program season  decision  Method  \\\n",
       "7   Communication Sciences And Disorders      MS    F19  Accepted  E-mail   \n",
       "17                 International Affairs      MS    F19  Accepted  E-mail   \n",
       "46              Biotechnology Management      MS    F19  Accepted  E-mail   \n",
       "64                            Psychology      MS    F19  Accepted  E-mail   \n",
       "70    Speech Language Pathology (Online)      MS    F19  Accepted  E-mail   \n",
       "\n",
       "    cgpa   greV   greQ  greA         status  \n",
       "7   3.59  157.0  147.0   4.0       American  \n",
       "17  3.57  157.0  151.0   5.5       American  \n",
       "46  3.66  155.0  167.0   4.0  International  \n",
       "64  3.10  161.0  157.0   4.0       American  \n",
       "70  3.68  149.0  157.0   3.0       American  "
      ]
     },
     "execution_count": 180,
     "metadata": {},
     "output_type": "execute_result"
    }
   ],
   "source": [
    "data.head()"
   ]
  },
  {
   "cell_type": "markdown",
   "id": "ab4623ed",
   "metadata": {},
   "source": [
    "#### Feature Selection For KNN "
   ]
  },
  {
   "cell_type": "markdown",
   "id": "a91a502a",
   "metadata": {},
   "source": [
    "We have used Important factors which is considered for selecting the universities i.e GRE scores and GPA"
   ]
  },
  {
   "cell_type": "code",
   "execution_count": 181,
   "id": "191282f3",
   "metadata": {},
   "outputs": [
    {
     "data": {
      "text/html": [
       "<div>\n",
       "<style scoped>\n",
       "    .dataframe tbody tr th:only-of-type {\n",
       "        vertical-align: middle;\n",
       "    }\n",
       "\n",
       "    .dataframe tbody tr th {\n",
       "        vertical-align: top;\n",
       "    }\n",
       "\n",
       "    .dataframe thead th {\n",
       "        text-align: right;\n",
       "    }\n",
       "</style>\n",
       "<table border=\"1\" class=\"dataframe\">\n",
       "  <thead>\n",
       "    <tr style=\"text-align: right;\">\n",
       "      <th></th>\n",
       "      <th>greV</th>\n",
       "      <th>greQ</th>\n",
       "      <th>greA</th>\n",
       "      <th>cgpa</th>\n",
       "      <th>univName</th>\n",
       "    </tr>\n",
       "  </thead>\n",
       "  <tbody>\n",
       "    <tr>\n",
       "      <th>7</th>\n",
       "      <td>157.0</td>\n",
       "      <td>147.0</td>\n",
       "      <td>4.0</td>\n",
       "      <td>3.59</td>\n",
       "      <td>New York University (NYU) - Steinhardt</td>\n",
       "    </tr>\n",
       "    <tr>\n",
       "      <th>17</th>\n",
       "      <td>157.0</td>\n",
       "      <td>151.0</td>\n",
       "      <td>5.5</td>\n",
       "      <td>3.57</td>\n",
       "      <td>Texas A&amp;M University</td>\n",
       "    </tr>\n",
       "    <tr>\n",
       "      <th>46</th>\n",
       "      <td>155.0</td>\n",
       "      <td>167.0</td>\n",
       "      <td>4.0</td>\n",
       "      <td>3.66</td>\n",
       "      <td>University Of California, Irvine</td>\n",
       "    </tr>\n",
       "    <tr>\n",
       "      <th>64</th>\n",
       "      <td>161.0</td>\n",
       "      <td>157.0</td>\n",
       "      <td>4.0</td>\n",
       "      <td>3.10</td>\n",
       "      <td>Boston University</td>\n",
       "    </tr>\n",
       "    <tr>\n",
       "      <th>70</th>\n",
       "      <td>149.0</td>\n",
       "      <td>157.0</td>\n",
       "      <td>3.0</td>\n",
       "      <td>3.68</td>\n",
       "      <td>New York University (NYU) Steinhardt</td>\n",
       "    </tr>\n",
       "  </tbody>\n",
       "</table>\n",
       "</div>"
      ],
      "text/plain": [
       "     greV   greQ  greA  cgpa                                univName\n",
       "7   157.0  147.0   4.0  3.59  New York University (NYU) - Steinhardt\n",
       "17  157.0  151.0   5.5  3.57                    Texas A&M University\n",
       "46  155.0  167.0   4.0  3.66        University Of California, Irvine\n",
       "64  161.0  157.0   4.0  3.10                       Boston University\n",
       "70  149.0  157.0   3.0  3.68    New York University (NYU) Steinhardt"
      ]
     },
     "execution_count": 181,
     "metadata": {},
     "output_type": "execute_result"
    }
   ],
   "source": [
    "knn_data = data[['greV', 'greQ', 'greA', 'cgpa', 'univName']]\n",
    "knn_data.head()"
   ]
  },
  {
   "cell_type": "markdown",
   "id": "d14a2191",
   "metadata": {},
   "source": [
    "#### Spliting the data for Training and Testing"
   ]
  },
  {
   "cell_type": "code",
   "execution_count": 182,
   "id": "de99abde",
   "metadata": {},
   "outputs": [
    {
     "name": "stdout",
     "output_type": "stream",
     "text": [
      "9868\n",
      "train Output data 124002                                          UC Berkeley\n",
      "314110                                    Boston University\n",
      "393183                   University Of Pennsylvania (UPenn)\n",
      "380888    The University Of North Carolina At Chapel Hil...\n",
      "163948        The University Of Texas At Austin (UT Austin)\n",
      "                                ...                        \n",
      "317479                                 University Of Denver\n",
      "393980       University Of Illinois Urbana Champaign (UIUC)\n",
      "45415                     University Of Southern California\n",
      "345323                         University Of Oregon, Eugene\n",
      "68835                 Western Kentucky University On-Campus\n",
      "Name: univName, Length: 39474, dtype: object\n",
      "train input data               greV        greQ  greA  cgpa\n",
      "124002  168.000000  162.000000   4.0  3.91\n",
      "314110  140.425532  168.085106   4.0  3.30\n",
      "393183  157.446809  130.000000   5.5  3.03\n",
      "380888  144.680851  142.553191   5.0  3.90\n",
      "163948  166.000000  151.000000   3.5  3.91\n",
      "...            ...         ...   ...   ...\n",
      "317479  156.000000  165.000000   4.0  3.20\n",
      "393980  130.000000  170.212766   4.0  3.81\n",
      "45415   168.000000  170.000000   4.5  3.84\n",
      "345323  166.000000  160.000000   4.0  3.81\n",
      "68835   157.000000  151.000000   5.0  3.86\n",
      "\n",
      "[39474 rows x 4 columns]\n",
      "test Output data 189741                          University Of Hawaii Manoa\n",
      "334783                   University Of Wisconsin - Madison\n",
      "393970                                   Temple University\n",
      "65877     Carnegie  Mellon University (CMU), Heinz College\n",
      "78360       University Of Texas At Dallas (UT Dallas, UTD)\n",
      "                                ...                       \n",
      "261146                       University Of Central Florida\n",
      "89955                        Northeastern University (NEU)\n",
      "103446       (University Of California, Los Angeles (UCLA)\n",
      "44762                                      UNC Chapel Hill\n",
      "142811                            California, Irvine (UCI)\n",
      "Name: univName, Length: 9867, dtype: object\n",
      "test input data              greV       greQ  greA  cgpa\n",
      "189741  169.00000  161.00000   5.0  3.90\n",
      "334783  161.00000  162.00000   4.0  3.74\n",
      "393970  151.06383  148.93617   5.5  3.80\n",
      "65877   157.00000  170.00000   3.5  3.96\n",
      "78360   164.00000  161.00000   4.0  3.77\n",
      "...           ...        ...   ...   ...\n",
      "261146  153.00000  151.00000   5.0  3.80\n",
      "89955   157.00000  158.00000   4.0  3.96\n",
      "103446  168.00000  162.00000   4.5  3.80\n",
      "44762   161.00000  157.00000   5.0  3.50\n",
      "142811  164.00000  151.00000   5.0  3.85\n",
      "\n",
      "[9867 rows x 4 columns]\n"
     ]
    },
    {
     "name": "stderr",
     "output_type": "stream",
     "text": [
      "C:\\Users\\DELL\\AppData\\Local\\Temp/ipykernel_10744/1315269562.py:9: FutureWarning: In a future version of pandas all arguments of DataFrame.drop except for the argument 'labels' will be keyword-only\n",
      "  train_input_data = train_input_data.drop('univName',1)\n",
      "C:\\Users\\DELL\\AppData\\Local\\Temp/ipykernel_10744/1315269562.py:14: FutureWarning: In a future version of pandas all arguments of DataFrame.drop except for the argument 'labels' will be keyword-only\n",
      "  test_input_data = test_input_data.drop('univName',1)\n"
     ]
    }
   ],
   "source": [
    "random_indices = permutation(data.index)\n",
    "test_cutoff = math.floor(len(data)/5)\n",
    "print(test_cutoff)\n",
    "test = knn_data.loc[random_indices[1:test_cutoff]]\n",
    "train = knn_data.loc[random_indices[test_cutoff:]]\n",
    "train_output_data = train['univName']\n",
    "print(\"train Output data\", train_output_data)\n",
    "train_input_data = train\n",
    "train_input_data = train_input_data.drop('univName',1)\n",
    "print(\"train input data\", train_input_data)\n",
    "test_output_data = test['univName']\n",
    "print(\"test Output data\", test_output_data)\n",
    "test_input_data = test\n",
    "test_input_data = test_input_data.drop('univName',1)\n",
    "print(\"test input data\", test_input_data)"
   ]
  },
  {
   "cell_type": "markdown",
   "id": "11bc6d8d",
   "metadata": {},
   "source": [
    "#### Code for KNN Algorithm"
   ]
  },
  {
   "cell_type": "code",
   "execution_count": 183,
   "id": "1ef26c84",
   "metadata": {},
   "outputs": [],
   "source": [
    "\n",
    "def euclideanDistance(data1, data2, length):\n",
    "    distance = 0\n",
    "    for x in range(length):\n",
    "        distance += np.square(data1[x] - data2[x])\n",
    "    return np.sqrt(distance)\n",
    "\n",
    "def knn(trainingSet, testInstance, k):\n",
    "    print(k)\n",
    "    distances = {}\n",
    "    sort = {}\n",
    "    length = testInstance.shape[1]\n",
    "\n",
    "    for x in range(len(trainingSet)):\n",
    "\n",
    "        dist = euclideanDistance(testInstance, trainingSet.iloc[x], length)\n",
    "        \n",
    "        distances[x] = dist[0]\n",
    "\n",
    "    sorted_d = sorted(distances.items(), key=lambda x: x[1])\n",
    "\n",
    " \n",
    "    neighbors = []\n",
    "\n",
    "    for x in range(k):\n",
    "        neighbors.append(sorted_d[x][0])\n",
    "\n",
    "    classVotes = {}\n",
    "\n",
    "    for x in range(len(neighbors)):\n",
    "        response = trainingSet.iloc[neighbors[x]][-1]\n",
    "        if response in classVotes:\n",
    "            classVotes[response] += 1\n",
    "        else:\n",
    "            classVotes[response] = 1\n",
    "\n",
    "    sortedVotes = sorted(classVotes.items(), key=lambda x: x[1], reverse=True)\n",
    " \n",
    "    return(sortedVotes, neighbors)\n"
   ]
  },
  {
   "cell_type": "markdown",
   "id": "b5b869ae",
   "metadata": {},
   "source": [
    "### Input Data for Testing"
   ]
  },
  {
   "cell_type": "code",
   "execution_count": 184,
   "id": "63f72c2c",
   "metadata": {},
   "outputs": [
    {
     "data": {
      "text/plain": [
       "(1, 4)"
      ]
     },
     "execution_count": 184,
     "metadata": {},
     "output_type": "execute_result"
    }
   ],
   "source": [
    "# Input Data to Predict the Universities\n",
    "\n",
    "testSet = [[170, 170, 5.5 , 4.0]]\n",
    "test = pd.DataFrame(testSet)\n",
    "test.shape"
   ]
  },
  {
   "cell_type": "code",
   "execution_count": 185,
   "id": "41ed28f5",
   "metadata": {},
   "outputs": [
    {
     "name": "stdout",
     "output_type": "stream",
     "text": [
      "12\n",
      "UC Berkeley\n",
      "University Of Pittsburgh\n",
      "University Of Rochester\n",
      "University Of Arizona\n",
      "University Of Chicago\n",
      "Pennsylvania State University\n",
      "Harvard University\n",
      "University Of Southern California\n",
      "UC Santa Cruz\n",
      "Stanford University\n",
      "UCLA\n"
     ]
    }
   ],
   "source": [
    "k = 12\n",
    "\n",
    "result,neigh= knn(knn_data, test, k)\n",
    "\n",
    "\n",
    "list1 = []\n",
    "list2 = []\n",
    "list3 = []\n",
    "for i in result:\n",
    "    list1.append(i[0])\n",
    "    list2.append(i[1])\n",
    "for i in list1:\n",
    "    print(i)\n",
    "    "
   ]
  },
  {
   "cell_type": "markdown",
   "id": "8678610e",
   "metadata": {},
   "source": [
    "### Above are the Universities where student with the provided scores have a chance of getting an admit"
   ]
  },
  {
   "cell_type": "markdown",
   "id": "be6ff221",
   "metadata": {},
   "source": [
    "#### Below we have used KNeighborsClassifier from sklearn library for predicting the same thing"
   ]
  },
  {
   "cell_type": "code",
   "execution_count": 186,
   "id": "7cf805d3",
   "metadata": {},
   "outputs": [
    {
     "name": "stdout",
     "output_type": "stream",
     "text": [
      "['Pennsylvania State University']\n"
     ]
    }
   ],
   "source": [
    "neigh = KNeighborsClassifier(n_neighbors=5)\n",
    "neigh.fit(knn_data.iloc[:,0:4], data['univName'])\n",
    "\n",
    "print(neigh.predict(test))"
   ]
  },
  {
   "cell_type": "markdown",
   "id": "f05d7148",
   "metadata": {},
   "source": [
    "### Streamlit"
   ]
  },
  {
   "cell_type": "code",
   "execution_count": 256,
   "id": "5ed10e29",
   "metadata": {},
   "outputs": [],
   "source": [
    "import pickle\n",
    "pickle_out = open(\"neigh.pkl\",\"wb\")\n",
    "pickle.dump(neigh, pickle_out)\n",
    "pickle_out.close()"
   ]
  },
  {
   "cell_type": "markdown",
   "id": "c2e739a8",
   "metadata": {},
   "source": [
    "## Random Forest modelling"
   ]
  },
  {
   "cell_type": "markdown",
   "id": "49fcb0c1",
   "metadata": {},
   "source": [
    "### For random forest we have used all data's with decision accepted and rejected (0,1)"
   ]
  },
  {
   "cell_type": "code",
   "execution_count": 187,
   "id": "444f9ca4",
   "metadata": {},
   "outputs": [
    {
     "data": {
      "text/plain": [
       "array(['Accepted', 'Rejected'], dtype=object)"
      ]
     },
     "execution_count": 187,
     "metadata": {},
     "output_type": "execute_result"
    }
   ],
   "source": [
    "data2 = data2.query('decision ==\"Accepted\" or decision ==\"Rejected\"')\n",
    "data2['decision'].unique()"
   ]
  },
  {
   "cell_type": "markdown",
   "id": "a639382c",
   "metadata": {},
   "source": [
    "#### Performing Label Encoding to convert the labels into a numeric form"
   ]
  },
  {
   "cell_type": "code",
   "execution_count": 188,
   "id": "c20b55ed",
   "metadata": {},
   "outputs": [
    {
     "data": {
      "text/html": [
       "<div>\n",
       "<style scoped>\n",
       "    .dataframe tbody tr th:only-of-type {\n",
       "        vertical-align: middle;\n",
       "    }\n",
       "\n",
       "    .dataframe tbody tr th {\n",
       "        vertical-align: top;\n",
       "    }\n",
       "\n",
       "    .dataframe thead th {\n",
       "        text-align: right;\n",
       "    }\n",
       "</style>\n",
       "<table border=\"1\" class=\"dataframe\">\n",
       "  <thead>\n",
       "    <tr style=\"text-align: right;\">\n",
       "      <th></th>\n",
       "      <th>univName</th>\n",
       "      <th>major</th>\n",
       "      <th>program</th>\n",
       "      <th>season</th>\n",
       "      <th>decision</th>\n",
       "      <th>Method</th>\n",
       "      <th>cgpa</th>\n",
       "      <th>greV</th>\n",
       "      <th>greQ</th>\n",
       "      <th>greA</th>\n",
       "      <th>status</th>\n",
       "    </tr>\n",
       "  </thead>\n",
       "  <tbody>\n",
       "    <tr>\n",
       "      <th>7</th>\n",
       "      <td>1562</td>\n",
       "      <td>Communication Sciences And Disorders</td>\n",
       "      <td>4</td>\n",
       "      <td>10</td>\n",
       "      <td>0</td>\n",
       "      <td>0</td>\n",
       "      <td>3.59</td>\n",
       "      <td>157.000000</td>\n",
       "      <td>147.000000</td>\n",
       "      <td>4.0</td>\n",
       "      <td>0</td>\n",
       "    </tr>\n",
       "    <tr>\n",
       "      <th>17</th>\n",
       "      <td>2423</td>\n",
       "      <td>International Affairs</td>\n",
       "      <td>4</td>\n",
       "      <td>10</td>\n",
       "      <td>0</td>\n",
       "      <td>0</td>\n",
       "      <td>3.57</td>\n",
       "      <td>157.000000</td>\n",
       "      <td>151.000000</td>\n",
       "      <td>5.5</td>\n",
       "      <td>0</td>\n",
       "    </tr>\n",
       "    <tr>\n",
       "      <th>33</th>\n",
       "      <td>1141</td>\n",
       "      <td>Computer Science</td>\n",
       "      <td>6</td>\n",
       "      <td>10</td>\n",
       "      <td>1</td>\n",
       "      <td>4</td>\n",
       "      <td>3.90</td>\n",
       "      <td>159.000000</td>\n",
       "      <td>170.000000</td>\n",
       "      <td>5.0</td>\n",
       "      <td>1</td>\n",
       "    </tr>\n",
       "    <tr>\n",
       "      <th>46</th>\n",
       "      <td>3895</td>\n",
       "      <td>Biotechnology Management</td>\n",
       "      <td>4</td>\n",
       "      <td>10</td>\n",
       "      <td>0</td>\n",
       "      <td>0</td>\n",
       "      <td>3.66</td>\n",
       "      <td>155.000000</td>\n",
       "      <td>167.000000</td>\n",
       "      <td>4.0</td>\n",
       "      <td>1</td>\n",
       "    </tr>\n",
       "    <tr>\n",
       "      <th>58</th>\n",
       "      <td>4091</td>\n",
       "      <td>Materials Science And Engineering</td>\n",
       "      <td>6</td>\n",
       "      <td>10</td>\n",
       "      <td>1</td>\n",
       "      <td>0</td>\n",
       "      <td>3.58</td>\n",
       "      <td>159.000000</td>\n",
       "      <td>160.000000</td>\n",
       "      <td>4.0</td>\n",
       "      <td>0</td>\n",
       "    </tr>\n",
       "    <tr>\n",
       "      <th>...</th>\n",
       "      <td>...</td>\n",
       "      <td>...</td>\n",
       "      <td>...</td>\n",
       "      <td>...</td>\n",
       "      <td>...</td>\n",
       "      <td>...</td>\n",
       "      <td>...</td>\n",
       "      <td>...</td>\n",
       "      <td>...</td>\n",
       "      <td>...</td>\n",
       "      <td>...</td>\n",
       "    </tr>\n",
       "    <tr>\n",
       "      <th>433928</th>\n",
       "      <td>2505</td>\n",
       "      <td>David Rockefeller Graduate Program</td>\n",
       "      <td>6</td>\n",
       "      <td>1</td>\n",
       "      <td>0</td>\n",
       "      <td>3</td>\n",
       "      <td>3.96</td>\n",
       "      <td>159.574468</td>\n",
       "      <td>161.702128</td>\n",
       "      <td>5.5</td>\n",
       "      <td>0</td>\n",
       "    </tr>\n",
       "    <tr>\n",
       "      <th>433944</th>\n",
       "      <td>3930</td>\n",
       "      <td>Biomedical Sciences (BMS) Program</td>\n",
       "      <td>6</td>\n",
       "      <td>1</td>\n",
       "      <td>1</td>\n",
       "      <td>0</td>\n",
       "      <td>3.90</td>\n",
       "      <td>130.000000</td>\n",
       "      <td>170.212766</td>\n",
       "      <td>4.0</td>\n",
       "      <td>2</td>\n",
       "    </tr>\n",
       "    <tr>\n",
       "      <th>433946</th>\n",
       "      <td>4003</td>\n",
       "      <td>Art Historyganic Chemistry</td>\n",
       "      <td>6</td>\n",
       "      <td>1</td>\n",
       "      <td>0</td>\n",
       "      <td>0</td>\n",
       "      <td>3.30</td>\n",
       "      <td>130.000000</td>\n",
       "      <td>163.829787</td>\n",
       "      <td>4.0</td>\n",
       "      <td>0</td>\n",
       "    </tr>\n",
       "    <tr>\n",
       "      <th>433972</th>\n",
       "      <td>4003</td>\n",
       "      <td>Chemistry</td>\n",
       "      <td>6</td>\n",
       "      <td>1</td>\n",
       "      <td>0</td>\n",
       "      <td>0</td>\n",
       "      <td>3.86</td>\n",
       "      <td>131.914894</td>\n",
       "      <td>170.212766</td>\n",
       "      <td>4.5</td>\n",
       "      <td>2</td>\n",
       "    </tr>\n",
       "    <tr>\n",
       "      <th>433978</th>\n",
       "      <td>3635</td>\n",
       "      <td>Political Theory</td>\n",
       "      <td>6</td>\n",
       "      <td>1</td>\n",
       "      <td>0</td>\n",
       "      <td>3</td>\n",
       "      <td>3.54</td>\n",
       "      <td>130.000000</td>\n",
       "      <td>134.042553</td>\n",
       "      <td>4.5</td>\n",
       "      <td>0</td>\n",
       "    </tr>\n",
       "  </tbody>\n",
       "</table>\n",
       "<p>81453 rows × 11 columns</p>\n",
       "</div>"
      ],
      "text/plain": [
       "        univName                                 major  program  season  \\\n",
       "7           1562  Communication Sciences And Disorders        4      10   \n",
       "17          2423                 International Affairs        4      10   \n",
       "33          1141                      Computer Science        6      10   \n",
       "46          3895              Biotechnology Management        4      10   \n",
       "58          4091     Materials Science And Engineering        6      10   \n",
       "...          ...                                   ...      ...     ...   \n",
       "433928      2505    David Rockefeller Graduate Program        6       1   \n",
       "433944      3930     Biomedical Sciences (BMS) Program        6       1   \n",
       "433946      4003            Art Historyganic Chemistry        6       1   \n",
       "433972      4003                             Chemistry        6       1   \n",
       "433978      3635                      Political Theory        6       1   \n",
       "\n",
       "        decision  Method  cgpa        greV        greQ  greA  status  \n",
       "7              0       0  3.59  157.000000  147.000000   4.0       0  \n",
       "17             0       0  3.57  157.000000  151.000000   5.5       0  \n",
       "33             1       4  3.90  159.000000  170.000000   5.0       1  \n",
       "46             0       0  3.66  155.000000  167.000000   4.0       1  \n",
       "58             1       0  3.58  159.000000  160.000000   4.0       0  \n",
       "...          ...     ...   ...         ...         ...   ...     ...  \n",
       "433928         0       3  3.96  159.574468  161.702128   5.5       0  \n",
       "433944         1       0  3.90  130.000000  170.212766   4.0       2  \n",
       "433946         0       0  3.30  130.000000  163.829787   4.0       0  \n",
       "433972         0       0  3.86  131.914894  170.212766   4.5       2  \n",
       "433978         0       3  3.54  130.000000  134.042553   4.5       0  \n",
       "\n",
       "[81453 rows x 11 columns]"
      ]
     },
     "execution_count": 188,
     "metadata": {},
     "output_type": "execute_result"
    }
   ],
   "source": [
    "data2['decision'] = data2[['decision']].apply(LabelEncoder().fit_transform)\n",
    "data2['univName'] = data2[['univName']].apply(LabelEncoder().fit_transform)\n",
    "data2['program'] = data2[['program']].apply(LabelEncoder().fit_transform)\n",
    "data2['status'] = data2[['status']].apply(LabelEncoder().fit_transform)\n",
    "data2['season'] = data2[['season']].apply(LabelEncoder().fit_transform)\n",
    "data2['Method'] = data2[['Method']].apply(LabelEncoder().fit_transform)\n",
    "data2"
   ]
  },
  {
   "cell_type": "code",
   "execution_count": 189,
   "id": "fb46ccd2",
   "metadata": {},
   "outputs": [
    {
     "data": {
      "text/plain": [
       "5943"
      ]
     },
     "execution_count": 189,
     "metadata": {},
     "output_type": "execute_result"
    }
   ],
   "source": [
    "len(data2['univName'].unique())"
   ]
  },
  {
   "cell_type": "markdown",
   "id": "1cbc9ba8",
   "metadata": {},
   "source": [
    "#### Feature Selection for Random Forest"
   ]
  },
  {
   "cell_type": "code",
   "execution_count": 190,
   "id": "75eda398",
   "metadata": {},
   "outputs": [],
   "source": [
    "X = data2[['univName','cgpa','greV','greQ','status','season','program','Method']]\n",
    "Y = data2[['decision']]"
   ]
  },
  {
   "cell_type": "markdown",
   "id": "8fb896ec",
   "metadata": {},
   "source": [
    "#### Spliting the data for Training and Testing By 75%-25%"
   ]
  },
  {
   "cell_type": "code",
   "execution_count": 191,
   "id": "49397a50",
   "metadata": {},
   "outputs": [],
   "source": [
    "sc = StandardScaler()\n",
    "X = sc.fit_transform(X)\n",
    "X_train, X_test, Y_train, Y_test = train_test_split(X,Y, test_size = 0.25, random_state = 42, shuffle=True)"
   ]
  },
  {
   "cell_type": "code",
   "execution_count": 192,
   "id": "f0a1f22b",
   "metadata": {},
   "outputs": [
    {
     "name": "stderr",
     "output_type": "stream",
     "text": [
      "C:\\Users\\DELL\\AppData\\Local\\Temp/ipykernel_10744/676311403.py:2: DataConversionWarning: A column-vector y was passed when a 1d array was expected. Please change the shape of y to (n_samples,), for example using ravel().\n",
      "  Random_model.fit(X_train,Y_train)\n"
     ]
    },
    {
     "name": "stdout",
     "output_type": "stream",
     "text": [
      "Random Forest accuracy:  92.77120267151206\n"
     ]
    }
   ],
   "source": [
    "# Running the model on data \n",
    "\n",
    "Random_model = RandomForestClassifier(n_estimators = 4)\n",
    "Random_model.fit(X_train,Y_train)\n",
    "print(\"Random Forest accuracy: \", (Random_model.score(X_train,Y_train))*100)"
   ]
  },
  {
   "cell_type": "code",
   "execution_count": 193,
   "id": "5549a382",
   "metadata": {},
   "outputs": [],
   "source": [
    "# Predicting with test data\n",
    "\n",
    "y_predict = Random_model.predict(X_test)"
   ]
  },
  {
   "cell_type": "code",
   "execution_count": 194,
   "id": "06615699",
   "metadata": {},
   "outputs": [
    {
     "name": "stdout",
     "output_type": "stream",
     "text": [
      "ACCURACY OF THE MODEL:  0.6596935769004125\n"
     ]
    }
   ],
   "source": [
    "print(\" Test Accuracy: \", metrics.accuracy_score(Y_test, y_predict))"
   ]
  },
  {
   "cell_type": "code",
   "execution_count": 229,
   "id": "00dca5c6",
   "metadata": {},
   "outputs": [
    {
     "name": "stdout",
     "output_type": "stream",
     "text": [
      "              precision    recall  f1-score   support\n",
      "\n",
      "           0       0.68      0.83      0.75     12292\n",
      "           1       0.61      0.40      0.48      8072\n",
      "\n",
      "    accuracy                           0.66     20364\n",
      "   macro avg       0.64      0.62      0.61     20364\n",
      "weighted avg       0.65      0.66      0.64     20364\n",
      "\n"
     ]
    }
   ],
   "source": [
    "#Calculating the F1 score\n",
    "\n",
    "report = classification_report(Y_test, Random_model.predict(X_test))\n",
    "print(report)"
   ]
  },
  {
   "cell_type": "code",
   "execution_count": 233,
   "id": "142b597e",
   "metadata": {},
   "outputs": [
    {
     "data": {
      "text/plain": [
       "array([[10193,  2099],\n",
       "       [ 4831,  3241]], dtype=int64)"
      ]
     },
     "execution_count": 233,
     "metadata": {},
     "output_type": "execute_result"
    }
   ],
   "source": [
    "#Confusion Matrix\n",
    "\n",
    "metrics.confusion_matrix(Y_test, y_predict)"
   ]
  },
  {
   "cell_type": "code",
   "execution_count": 248,
   "id": "7cbc5b47",
   "metadata": {},
   "outputs": [
    {
     "data": {
      "image/png": "[encoded data removed]",
      "text/plain": [
       "<Figure size 432x288 with 2 Axes>"
      ]
     },
     "metadata": {
      "needs_background": "light"
     },
     "output_type": "display_data"
    }
   ],
   "source": [
    "plot_confusion_matrix(Random_model,X_test,Y_test)  \n",
    "plt.show()"
   ]
  },
  {
   "cell_type": "markdown",
   "id": "84ab5cfb",
   "metadata": {},
   "source": [
    "### Hyperparameter tuning (Random Forest)"
   ]
  },
  {
   "cell_type": "code",
   "execution_count": 251,
   "id": "8f7a2a75",
   "metadata": {},
   "outputs": [
    {
     "name": "stderr",
     "output_type": "stream",
     "text": [
      "D:\\anaconda\\lib\\site-packages\\sklearn\\model_selection\\_validation.py:598: DataConversionWarning: A column-vector y was passed when a 1d array was expected. Please change the shape of y to (n_samples,), for example using ravel().\n",
      "  estimator.fit(X_train, y_train, **fit_params)\n",
      "D:\\anaconda\\lib\\site-packages\\sklearn\\model_selection\\_validation.py:598: DataConversionWarning: A column-vector y was passed when a 1d array was expected. Please change the shape of y to (n_samples,), for example using ravel().\n",
      "  estimator.fit(X_train, y_train, **fit_params)\n",
      "D:\\anaconda\\lib\\site-packages\\sklearn\\model_selection\\_validation.py:598: DataConversionWarning: A column-vector y was passed when a 1d array was expected. Please change the shape of y to (n_samples,), for example using ravel().\n",
      "  estimator.fit(X_train, y_train, **fit_params)\n",
      "D:\\anaconda\\lib\\site-packages\\sklearn\\model_selection\\_validation.py:598: DataConversionWarning: A column-vector y was passed when a 1d array was expected. Please change the shape of y to (n_samples,), for example using ravel().\n",
      "  estimator.fit(X_train, y_train, **fit_params)\n",
      "D:\\anaconda\\lib\\site-packages\\sklearn\\model_selection\\_validation.py:598: DataConversionWarning: A column-vector y was passed when a 1d array was expected. Please change the shape of y to (n_samples,), for example using ravel().\n",
      "  estimator.fit(X_train, y_train, **fit_params)\n",
      "D:\\anaconda\\lib\\site-packages\\sklearn\\model_selection\\_validation.py:598: DataConversionWarning: A column-vector y was passed when a 1d array was expected. Please change the shape of y to (n_samples,), for example using ravel().\n",
      "  estimator.fit(X_train, y_train, **fit_params)\n",
      "D:\\anaconda\\lib\\site-packages\\sklearn\\model_selection\\_validation.py:598: DataConversionWarning: A column-vector y was passed when a 1d array was expected. Please change the shape of y to (n_samples,), for example using ravel().\n",
      "  estimator.fit(X_train, y_train, **fit_params)\n",
      "D:\\anaconda\\lib\\site-packages\\sklearn\\model_selection\\_validation.py:598: DataConversionWarning: A column-vector y was passed when a 1d array was expected. Please change the shape of y to (n_samples,), for example using ravel().\n",
      "  estimator.fit(X_train, y_train, **fit_params)\n",
      "D:\\anaconda\\lib\\site-packages\\sklearn\\model_selection\\_validation.py:598: DataConversionWarning: A column-vector y was passed when a 1d array was expected. Please change the shape of y to (n_samples,), for example using ravel().\n",
      "  estimator.fit(X_train, y_train, **fit_params)\n",
      "D:\\anaconda\\lib\\site-packages\\sklearn\\model_selection\\_validation.py:598: DataConversionWarning: A column-vector y was passed when a 1d array was expected. Please change the shape of y to (n_samples,), for example using ravel().\n",
      "  estimator.fit(X_train, y_train, **fit_params)\n",
      "D:\\anaconda\\lib\\site-packages\\sklearn\\model_selection\\_validation.py:598: DataConversionWarning: A column-vector y was passed when a 1d array was expected. Please change the shape of y to (n_samples,), for example using ravel().\n",
      "  estimator.fit(X_train, y_train, **fit_params)\n",
      "D:\\anaconda\\lib\\site-packages\\sklearn\\model_selection\\_validation.py:598: DataConversionWarning: A column-vector y was passed when a 1d array was expected. Please change the shape of y to (n_samples,), for example using ravel().\n",
      "  estimator.fit(X_train, y_train, **fit_params)\n",
      "D:\\anaconda\\lib\\site-packages\\sklearn\\model_selection\\_validation.py:598: DataConversionWarning: A column-vector y was passed when a 1d array was expected. Please change the shape of y to (n_samples,), for example using ravel().\n",
      "  estimator.fit(X_train, y_train, **fit_params)\n",
      "D:\\anaconda\\lib\\site-packages\\sklearn\\model_selection\\_validation.py:598: DataConversionWarning: A column-vector y was passed when a 1d array was expected. Please change the shape of y to (n_samples,), for example using ravel().\n",
      "  estimator.fit(X_train, y_train, **fit_params)\n",
      "D:\\anaconda\\lib\\site-packages\\sklearn\\model_selection\\_validation.py:598: DataConversionWarning: A column-vector y was passed when a 1d array was expected. Please change the shape of y to (n_samples,), for example using ravel().\n",
      "  estimator.fit(X_train, y_train, **fit_params)\n",
      "D:\\anaconda\\lib\\site-packages\\sklearn\\model_selection\\_validation.py:598: DataConversionWarning: A column-vector y was passed when a 1d array was expected. Please change the shape of y to (n_samples,), for example using ravel().\n",
      "  estimator.fit(X_train, y_train, **fit_params)\n",
      "D:\\anaconda\\lib\\site-packages\\sklearn\\model_selection\\_validation.py:598: DataConversionWarning: A column-vector y was passed when a 1d array was expected. Please change the shape of y to (n_samples,), for example using ravel().\n",
      "  estimator.fit(X_train, y_train, **fit_params)\n",
      "D:\\anaconda\\lib\\site-packages\\sklearn\\model_selection\\_validation.py:598: DataConversionWarning: A column-vector y was passed when a 1d array was expected. Please change the shape of y to (n_samples,), for example using ravel().\n",
      "  estimator.fit(X_train, y_train, **fit_params)\n",
      "D:\\anaconda\\lib\\site-packages\\sklearn\\model_selection\\_validation.py:598: DataConversionWarning: A column-vector y was passed when a 1d array was expected. Please change the shape of y to (n_samples,), for example using ravel().\n",
      "  estimator.fit(X_train, y_train, **fit_params)\n",
      "D:\\anaconda\\lib\\site-packages\\sklearn\\model_selection\\_validation.py:598: DataConversionWarning: A column-vector y was passed when a 1d array was expected. Please change the shape of y to (n_samples,), for example using ravel().\n",
      "  estimator.fit(X_train, y_train, **fit_params)\n",
      "D:\\anaconda\\lib\\site-packages\\sklearn\\model_selection\\_validation.py:598: DataConversionWarning: A column-vector y was passed when a 1d array was expected. Please change the shape of y to (n_samples,), for example using ravel().\n",
      "  estimator.fit(X_train, y_train, **fit_params)\n",
      "D:\\anaconda\\lib\\site-packages\\sklearn\\model_selection\\_validation.py:598: DataConversionWarning: A column-vector y was passed when a 1d array was expected. Please change the shape of y to (n_samples,), for example using ravel().\n",
      "  estimator.fit(X_train, y_train, **fit_params)\n",
      "D:\\anaconda\\lib\\site-packages\\sklearn\\model_selection\\_validation.py:598: DataConversionWarning: A column-vector y was passed when a 1d array was expected. Please change the shape of y to (n_samples,), for example using ravel().\n",
      "  estimator.fit(X_train, y_train, **fit_params)\n",
      "D:\\anaconda\\lib\\site-packages\\sklearn\\model_selection\\_validation.py:598: DataConversionWarning: A column-vector y was passed when a 1d array was expected. Please change the shape of y to (n_samples,), for example using ravel().\n",
      "  estimator.fit(X_train, y_train, **fit_params)\n",
      "D:\\anaconda\\lib\\site-packages\\sklearn\\model_selection\\_validation.py:598: DataConversionWarning: A column-vector y was passed when a 1d array was expected. Please change the shape of y to (n_samples,), for example using ravel().\n",
      "  estimator.fit(X_train, y_train, **fit_params)\n",
      "D:\\anaconda\\lib\\site-packages\\sklearn\\model_selection\\_validation.py:598: DataConversionWarning: A column-vector y was passed when a 1d array was expected. Please change the shape of y to (n_samples,), for example using ravel().\n",
      "  estimator.fit(X_train, y_train, **fit_params)\n",
      "D:\\anaconda\\lib\\site-packages\\sklearn\\model_selection\\_validation.py:598: DataConversionWarning: A column-vector y was passed when a 1d array was expected. Please change the shape of y to (n_samples,), for example using ravel().\n",
      "  estimator.fit(X_train, y_train, **fit_params)\n",
      "D:\\anaconda\\lib\\site-packages\\sklearn\\model_selection\\_validation.py:598: DataConversionWarning: A column-vector y was passed when a 1d array was expected. Please change the shape of y to (n_samples,), for example using ravel().\n",
      "  estimator.fit(X_train, y_train, **fit_params)\n",
      "D:\\anaconda\\lib\\site-packages\\sklearn\\model_selection\\_validation.py:598: DataConversionWarning: A column-vector y was passed when a 1d array was expected. Please change the shape of y to (n_samples,), for example using ravel().\n",
      "  estimator.fit(X_train, y_train, **fit_params)\n",
      "D:\\anaconda\\lib\\site-packages\\sklearn\\model_selection\\_validation.py:598: DataConversionWarning: A column-vector y was passed when a 1d array was expected. Please change the shape of y to (n_samples,), for example using ravel().\n",
      "  estimator.fit(X_train, y_train, **fit_params)\n"
     ]
    },
    {
     "name": "stderr",
     "output_type": "stream",
     "text": [
      "D:\\anaconda\\lib\\site-packages\\sklearn\\model_selection\\_validation.py:598: DataConversionWarning: A column-vector y was passed when a 1d array was expected. Please change the shape of y to (n_samples,), for example using ravel().\n",
      "  estimator.fit(X_train, y_train, **fit_params)\n",
      "D:\\anaconda\\lib\\site-packages\\sklearn\\model_selection\\_validation.py:598: DataConversionWarning: A column-vector y was passed when a 1d array was expected. Please change the shape of y to (n_samples,), for example using ravel().\n",
      "  estimator.fit(X_train, y_train, **fit_params)\n",
      "D:\\anaconda\\lib\\site-packages\\sklearn\\model_selection\\_validation.py:598: DataConversionWarning: A column-vector y was passed when a 1d array was expected. Please change the shape of y to (n_samples,), for example using ravel().\n",
      "  estimator.fit(X_train, y_train, **fit_params)\n",
      "D:\\anaconda\\lib\\site-packages\\sklearn\\model_selection\\_validation.py:598: DataConversionWarning: A column-vector y was passed when a 1d array was expected. Please change the shape of y to (n_samples,), for example using ravel().\n",
      "  estimator.fit(X_train, y_train, **fit_params)\n",
      "D:\\anaconda\\lib\\site-packages\\sklearn\\model_selection\\_validation.py:598: DataConversionWarning: A column-vector y was passed when a 1d array was expected. Please change the shape of y to (n_samples,), for example using ravel().\n",
      "  estimator.fit(X_train, y_train, **fit_params)\n",
      "D:\\anaconda\\lib\\site-packages\\sklearn\\model_selection\\_validation.py:598: DataConversionWarning: A column-vector y was passed when a 1d array was expected. Please change the shape of y to (n_samples,), for example using ravel().\n",
      "  estimator.fit(X_train, y_train, **fit_params)\n",
      "D:\\anaconda\\lib\\site-packages\\sklearn\\model_selection\\_validation.py:598: DataConversionWarning: A column-vector y was passed when a 1d array was expected. Please change the shape of y to (n_samples,), for example using ravel().\n",
      "  estimator.fit(X_train, y_train, **fit_params)\n",
      "D:\\anaconda\\lib\\site-packages\\sklearn\\model_selection\\_validation.py:598: DataConversionWarning: A column-vector y was passed when a 1d array was expected. Please change the shape of y to (n_samples,), for example using ravel().\n",
      "  estimator.fit(X_train, y_train, **fit_params)\n",
      "D:\\anaconda\\lib\\site-packages\\sklearn\\model_selection\\_validation.py:598: DataConversionWarning: A column-vector y was passed when a 1d array was expected. Please change the shape of y to (n_samples,), for example using ravel().\n",
      "  estimator.fit(X_train, y_train, **fit_params)\n",
      "D:\\anaconda\\lib\\site-packages\\sklearn\\model_selection\\_validation.py:598: DataConversionWarning: A column-vector y was passed when a 1d array was expected. Please change the shape of y to (n_samples,), for example using ravel().\n",
      "  estimator.fit(X_train, y_train, **fit_params)\n",
      "D:\\anaconda\\lib\\site-packages\\sklearn\\model_selection\\_validation.py:598: DataConversionWarning: A column-vector y was passed when a 1d array was expected. Please change the shape of y to (n_samples,), for example using ravel().\n",
      "  estimator.fit(X_train, y_train, **fit_params)\n",
      "D:\\anaconda\\lib\\site-packages\\sklearn\\model_selection\\_validation.py:598: DataConversionWarning: A column-vector y was passed when a 1d array was expected. Please change the shape of y to (n_samples,), for example using ravel().\n",
      "  estimator.fit(X_train, y_train, **fit_params)\n",
      "D:\\anaconda\\lib\\site-packages\\sklearn\\model_selection\\_validation.py:598: DataConversionWarning: A column-vector y was passed when a 1d array was expected. Please change the shape of y to (n_samples,), for example using ravel().\n",
      "  estimator.fit(X_train, y_train, **fit_params)\n",
      "D:\\anaconda\\lib\\site-packages\\sklearn\\model_selection\\_validation.py:598: DataConversionWarning: A column-vector y was passed when a 1d array was expected. Please change the shape of y to (n_samples,), for example using ravel().\n",
      "  estimator.fit(X_train, y_train, **fit_params)\n",
      "D:\\anaconda\\lib\\site-packages\\sklearn\\model_selection\\_validation.py:598: DataConversionWarning: A column-vector y was passed when a 1d array was expected. Please change the shape of y to (n_samples,), for example using ravel().\n",
      "  estimator.fit(X_train, y_train, **fit_params)\n",
      "D:\\anaconda\\lib\\site-packages\\sklearn\\model_selection\\_validation.py:598: DataConversionWarning: A column-vector y was passed when a 1d array was expected. Please change the shape of y to (n_samples,), for example using ravel().\n",
      "  estimator.fit(X_train, y_train, **fit_params)\n",
      "D:\\anaconda\\lib\\site-packages\\sklearn\\model_selection\\_validation.py:598: DataConversionWarning: A column-vector y was passed when a 1d array was expected. Please change the shape of y to (n_samples,), for example using ravel().\n",
      "  estimator.fit(X_train, y_train, **fit_params)\n",
      "D:\\anaconda\\lib\\site-packages\\sklearn\\model_selection\\_validation.py:598: DataConversionWarning: A column-vector y was passed when a 1d array was expected. Please change the shape of y to (n_samples,), for example using ravel().\n",
      "  estimator.fit(X_train, y_train, **fit_params)\n",
      "D:\\anaconda\\lib\\site-packages\\sklearn\\model_selection\\_validation.py:598: DataConversionWarning: A column-vector y was passed when a 1d array was expected. Please change the shape of y to (n_samples,), for example using ravel().\n",
      "  estimator.fit(X_train, y_train, **fit_params)\n",
      "D:\\anaconda\\lib\\site-packages\\sklearn\\model_selection\\_validation.py:598: DataConversionWarning: A column-vector y was passed when a 1d array was expected. Please change the shape of y to (n_samples,), for example using ravel().\n",
      "  estimator.fit(X_train, y_train, **fit_params)\n",
      "D:\\anaconda\\lib\\site-packages\\sklearn\\model_selection\\_search.py:880: DataConversionWarning: A column-vector y was passed when a 1d array was expected. Please change the shape of y to (n_samples,), for example using ravel().\n",
      "  self.best_estimator_.fit(X, y, **fit_params)\n"
     ]
    },
    {
     "name": "stdout",
     "output_type": "stream",
     "text": [
      "Tuned Decision Tree Parameters: {'criterion': 'gini', 'max_depth': None, 'max_features': 6, 'min_samples_leaf': 4}\n",
      "Best score is 0.6711847000172966\n"
     ]
    }
   ],
   "source": [
    "# Creating the hyperparameter grid\n",
    "param_dist = {\"max_depth\": [3, None],\n",
    "              \"max_features\": randint(1, 9),\n",
    "              \"min_samples_leaf\": randint(1, 9),\n",
    "              \"criterion\": [\"gini\", \"entropy\"]}\n",
    " \n",
    "# Instantiating Decision Tree classifier\n",
    "#tree = DecisionTreeClassifier()\n",
    " \n",
    "# Instantiating RandomizedSearchCV object\n",
    "tree_cv = RandomizedSearchCV(Random_model, param_dist, cv = 5)\n",
    " \n",
    "tree_cv.fit(X_train,Y_train)\n",
    " \n",
    "# Print the tuned parameters and score\n",
    "print(\"Tuned Decision Tree Parameters: {}\".format(tree_cv.best_params_))\n",
    "print(\"Best score is {}\".format(tree_cv.best_score_))"
   ]
  },
  {
   "cell_type": "markdown",
   "id": "24451ee2",
   "metadata": {},
   "source": [
    "## Naive Bayes Algorithm"
   ]
  },
  {
   "cell_type": "code",
   "execution_count": 207,
   "id": "f5da432b",
   "metadata": {},
   "outputs": [
    {
     "name": "stdout",
     "output_type": "stream",
     "text": [
      "Naive Bayes score:  0.6285602042820664\n"
     ]
    },
    {
     "name": "stderr",
     "output_type": "stream",
     "text": [
      "D:\\anaconda\\lib\\site-packages\\sklearn\\utils\\validation.py:63: DataConversionWarning: A column-vector y was passed when a 1d array was expected. Please change the shape of y to (n_samples, ), for example using ravel().\n",
      "  return f(*args, **kwargs)\n"
     ]
    }
   ],
   "source": [
    "nb = GaussianNB()\n",
    "nb.fit(X_train, Y_train)\n",
    "y_pred = nb.predict(X_test)\n",
    "print(\"Naive Bayes score: \",nb.score(Y_test, y_pred))"
   ]
  },
  {
   "cell_type": "markdown",
   "id": "d34e7ffd",
   "metadata": {},
   "source": [
    "## Support Vector Machine"
   ]
  },
  {
   "cell_type": "code",
   "execution_count": 199,
   "id": "85847295",
   "metadata": {},
   "outputs": [
    {
     "name": "stderr",
     "output_type": "stream",
     "text": [
      "D:\\anaconda\\lib\\site-packages\\sklearn\\utils\\validation.py:63: DataConversionWarning: A column-vector y was passed when a 1d array was expected. Please change the shape of y to (n_samples, ), for example using ravel().\n",
      "  return f(*args, **kwargs)\n"
     ]
    }
   ],
   "source": [
    "# svc = SVC()\n",
    "# svc.fit(X_train, Y_train)\n",
    "# y_pred = svc.predict(X_test)"
   ]
  },
  {
   "cell_type": "code",
   "execution_count": 201,
   "id": "aa04e3d9",
   "metadata": {},
   "outputs": [
    {
     "data": {
      "text/plain": [
       "0.6593989393046553"
      ]
     },
     "execution_count": 201,
     "metadata": {},
     "output_type": "execute_result"
    }
   ],
   "source": [
    "# accuracy_score(Y_test, y_pred)"
   ]
  },
  {
   "cell_type": "markdown",
   "id": "1708a019",
   "metadata": {},
   "source": [
    "## Logistic Regression"
   ]
  },
  {
   "cell_type": "code",
   "execution_count": 205,
   "id": "85d8a58c",
   "metadata": {},
   "outputs": [
    {
     "name": "stderr",
     "output_type": "stream",
     "text": [
      "D:\\anaconda\\lib\\site-packages\\sklearn\\utils\\validation.py:63: DataConversionWarning: A column-vector y was passed when a 1d array was expected. Please change the shape of y to (n_samples, ), for example using ravel().\n",
      "  return f(*args, **kwargs)\n"
     ]
    },
    {
     "data": {
      "text/plain": [
       "0.6401001767825575"
      ]
     },
     "execution_count": 205,
     "metadata": {},
     "output_type": "execute_result"
    }
   ],
   "source": [
    "# instantiate the model (using the default parameters)\n",
    "logreg = LogisticRegression(random_state=16)\n",
    "\n",
    "# fit the model with data\n",
    "logreg.fit(X_train, Y_train)\n",
    "\n",
    "y_pred = logreg.predict(X_test)\n",
    "accuracy_score(Y_test, y_pred)"
   ]
  },
  {
   "cell_type": "markdown",
   "id": "80858bd0",
   "metadata": {},
   "source": [
    "### Hyperparameter tuning (Logistic Regression)"
   ]
  },
  {
   "cell_type": "code",
   "execution_count": 253,
   "id": "7e811c1c",
   "metadata": {},
   "outputs": [
    {
     "name": "stderr",
     "output_type": "stream",
     "text": [
      "D:\\anaconda\\lib\\site-packages\\sklearn\\utils\\validation.py:63: DataConversionWarning: A column-vector y was passed when a 1d array was expected. Please change the shape of y to (n_samples, ), for example using ravel().\n",
      "  return f(*args, **kwargs)\n",
      "D:\\anaconda\\lib\\site-packages\\sklearn\\utils\\validation.py:63: DataConversionWarning: A column-vector y was passed when a 1d array was expected. Please change the shape of y to (n_samples, ), for example using ravel().\n",
      "  return f(*args, **kwargs)\n",
      "D:\\anaconda\\lib\\site-packages\\sklearn\\utils\\validation.py:63: DataConversionWarning: A column-vector y was passed when a 1d array was expected. Please change the shape of y to (n_samples, ), for example using ravel().\n",
      "  return f(*args, **kwargs)\n",
      "D:\\anaconda\\lib\\site-packages\\sklearn\\utils\\validation.py:63: DataConversionWarning: A column-vector y was passed when a 1d array was expected. Please change the shape of y to (n_samples, ), for example using ravel().\n",
      "  return f(*args, **kwargs)\n",
      "D:\\anaconda\\lib\\site-packages\\sklearn\\utils\\validation.py:63: DataConversionWarning: A column-vector y was passed when a 1d array was expected. Please change the shape of y to (n_samples, ), for example using ravel().\n",
      "  return f(*args, **kwargs)\n",
      "D:\\anaconda\\lib\\site-packages\\sklearn\\utils\\validation.py:63: DataConversionWarning: A column-vector y was passed when a 1d array was expected. Please change the shape of y to (n_samples, ), for example using ravel().\n",
      "  return f(*args, **kwargs)\n",
      "D:\\anaconda\\lib\\site-packages\\sklearn\\utils\\validation.py:63: DataConversionWarning: A column-vector y was passed when a 1d array was expected. Please change the shape of y to (n_samples, ), for example using ravel().\n",
      "  return f(*args, **kwargs)\n",
      "D:\\anaconda\\lib\\site-packages\\sklearn\\utils\\validation.py:63: DataConversionWarning: A column-vector y was passed when a 1d array was expected. Please change the shape of y to (n_samples, ), for example using ravel().\n",
      "  return f(*args, **kwargs)\n",
      "D:\\anaconda\\lib\\site-packages\\sklearn\\utils\\validation.py:63: DataConversionWarning: A column-vector y was passed when a 1d array was expected. Please change the shape of y to (n_samples, ), for example using ravel().\n",
      "  return f(*args, **kwargs)\n",
      "D:\\anaconda\\lib\\site-packages\\sklearn\\utils\\validation.py:63: DataConversionWarning: A column-vector y was passed when a 1d array was expected. Please change the shape of y to (n_samples, ), for example using ravel().\n",
      "  return f(*args, **kwargs)\n",
      "D:\\anaconda\\lib\\site-packages\\sklearn\\utils\\validation.py:63: DataConversionWarning: A column-vector y was passed when a 1d array was expected. Please change the shape of y to (n_samples, ), for example using ravel().\n",
      "  return f(*args, **kwargs)\n",
      "D:\\anaconda\\lib\\site-packages\\sklearn\\utils\\validation.py:63: DataConversionWarning: A column-vector y was passed when a 1d array was expected. Please change the shape of y to (n_samples, ), for example using ravel().\n",
      "  return f(*args, **kwargs)\n",
      "D:\\anaconda\\lib\\site-packages\\sklearn\\utils\\validation.py:63: DataConversionWarning: A column-vector y was passed when a 1d array was expected. Please change the shape of y to (n_samples, ), for example using ravel().\n",
      "  return f(*args, **kwargs)\n",
      "D:\\anaconda\\lib\\site-packages\\sklearn\\utils\\validation.py:63: DataConversionWarning: A column-vector y was passed when a 1d array was expected. Please change the shape of y to (n_samples, ), for example using ravel().\n",
      "  return f(*args, **kwargs)\n",
      "D:\\anaconda\\lib\\site-packages\\sklearn\\utils\\validation.py:63: DataConversionWarning: A column-vector y was passed when a 1d array was expected. Please change the shape of y to (n_samples, ), for example using ravel().\n",
      "  return f(*args, **kwargs)\n",
      "D:\\anaconda\\lib\\site-packages\\sklearn\\utils\\validation.py:63: DataConversionWarning: A column-vector y was passed when a 1d array was expected. Please change the shape of y to (n_samples, ), for example using ravel().\n",
      "  return f(*args, **kwargs)\n",
      "D:\\anaconda\\lib\\site-packages\\sklearn\\utils\\validation.py:63: DataConversionWarning: A column-vector y was passed when a 1d array was expected. Please change the shape of y to (n_samples, ), for example using ravel().\n",
      "  return f(*args, **kwargs)\n",
      "D:\\anaconda\\lib\\site-packages\\sklearn\\utils\\validation.py:63: DataConversionWarning: A column-vector y was passed when a 1d array was expected. Please change the shape of y to (n_samples, ), for example using ravel().\n",
      "  return f(*args, **kwargs)\n",
      "D:\\anaconda\\lib\\site-packages\\sklearn\\utils\\validation.py:63: DataConversionWarning: A column-vector y was passed when a 1d array was expected. Please change the shape of y to (n_samples, ), for example using ravel().\n",
      "  return f(*args, **kwargs)\n",
      "D:\\anaconda\\lib\\site-packages\\sklearn\\utils\\validation.py:63: DataConversionWarning: A column-vector y was passed when a 1d array was expected. Please change the shape of y to (n_samples, ), for example using ravel().\n",
      "  return f(*args, **kwargs)\n",
      "D:\\anaconda\\lib\\site-packages\\sklearn\\utils\\validation.py:63: DataConversionWarning: A column-vector y was passed when a 1d array was expected. Please change the shape of y to (n_samples, ), for example using ravel().\n",
      "  return f(*args, **kwargs)\n",
      "D:\\anaconda\\lib\\site-packages\\sklearn\\utils\\validation.py:63: DataConversionWarning: A column-vector y was passed when a 1d array was expected. Please change the shape of y to (n_samples, ), for example using ravel().\n",
      "  return f(*args, **kwargs)\n",
      "D:\\anaconda\\lib\\site-packages\\sklearn\\utils\\validation.py:63: DataConversionWarning: A column-vector y was passed when a 1d array was expected. Please change the shape of y to (n_samples, ), for example using ravel().\n",
      "  return f(*args, **kwargs)\n",
      "D:\\anaconda\\lib\\site-packages\\sklearn\\utils\\validation.py:63: DataConversionWarning: A column-vector y was passed when a 1d array was expected. Please change the shape of y to (n_samples, ), for example using ravel().\n",
      "  return f(*args, **kwargs)\n",
      "D:\\anaconda\\lib\\site-packages\\sklearn\\utils\\validation.py:63: DataConversionWarning: A column-vector y was passed when a 1d array was expected. Please change the shape of y to (n_samples, ), for example using ravel().\n",
      "  return f(*args, **kwargs)\n",
      "D:\\anaconda\\lib\\site-packages\\sklearn\\utils\\validation.py:63: DataConversionWarning: A column-vector y was passed when a 1d array was expected. Please change the shape of y to (n_samples, ), for example using ravel().\n",
      "  return f(*args, **kwargs)\n",
      "D:\\anaconda\\lib\\site-packages\\sklearn\\utils\\validation.py:63: DataConversionWarning: A column-vector y was passed when a 1d array was expected. Please change the shape of y to (n_samples, ), for example using ravel().\n",
      "  return f(*args, **kwargs)\n",
      "D:\\anaconda\\lib\\site-packages\\sklearn\\utils\\validation.py:63: DataConversionWarning: A column-vector y was passed when a 1d array was expected. Please change the shape of y to (n_samples, ), for example using ravel().\n",
      "  return f(*args, **kwargs)\n",
      "D:\\anaconda\\lib\\site-packages\\sklearn\\utils\\validation.py:63: DataConversionWarning: A column-vector y was passed when a 1d array was expected. Please change the shape of y to (n_samples, ), for example using ravel().\n",
      "  return f(*args, **kwargs)\n",
      "D:\\anaconda\\lib\\site-packages\\sklearn\\utils\\validation.py:63: DataConversionWarning: A column-vector y was passed when a 1d array was expected. Please change the shape of y to (n_samples, ), for example using ravel().\n",
      "  return f(*args, **kwargs)\n",
      "D:\\anaconda\\lib\\site-packages\\sklearn\\utils\\validation.py:63: DataConversionWarning: A column-vector y was passed when a 1d array was expected. Please change the shape of y to (n_samples, ), for example using ravel().\n",
      "  return f(*args, **kwargs)\n",
      "D:\\anaconda\\lib\\site-packages\\sklearn\\utils\\validation.py:63: DataConversionWarning: A column-vector y was passed when a 1d array was expected. Please change the shape of y to (n_samples, ), for example using ravel().\n",
      "  return f(*args, **kwargs)\n",
      "D:\\anaconda\\lib\\site-packages\\sklearn\\utils\\validation.py:63: DataConversionWarning: A column-vector y was passed when a 1d array was expected. Please change the shape of y to (n_samples, ), for example using ravel().\n",
      "  return f(*args, **kwargs)\n",
      "D:\\anaconda\\lib\\site-packages\\sklearn\\utils\\validation.py:63: DataConversionWarning: A column-vector y was passed when a 1d array was expected. Please change the shape of y to (n_samples, ), for example using ravel().\n",
      "  return f(*args, **kwargs)\n",
      "D:\\anaconda\\lib\\site-packages\\sklearn\\utils\\validation.py:63: DataConversionWarning: A column-vector y was passed when a 1d array was expected. Please change the shape of y to (n_samples, ), for example using ravel().\n",
      "  return f(*args, **kwargs)\n",
      "D:\\anaconda\\lib\\site-packages\\sklearn\\utils\\validation.py:63: DataConversionWarning: A column-vector y was passed when a 1d array was expected. Please change the shape of y to (n_samples, ), for example using ravel().\n",
      "  return f(*args, **kwargs)\n",
      "D:\\anaconda\\lib\\site-packages\\sklearn\\utils\\validation.py:63: DataConversionWarning: A column-vector y was passed when a 1d array was expected. Please change the shape of y to (n_samples, ), for example using ravel().\n",
      "  return f(*args, **kwargs)\n",
      "D:\\anaconda\\lib\\site-packages\\sklearn\\utils\\validation.py:63: DataConversionWarning: A column-vector y was passed when a 1d array was expected. Please change the shape of y to (n_samples, ), for example using ravel().\n",
      "  return f(*args, **kwargs)\n",
      "D:\\anaconda\\lib\\site-packages\\sklearn\\utils\\validation.py:63: DataConversionWarning: A column-vector y was passed when a 1d array was expected. Please change the shape of y to (n_samples, ), for example using ravel().\n",
      "  return f(*args, **kwargs)\n"
     ]
    },
    {
     "name": "stderr",
     "output_type": "stream",
     "text": [
      "D:\\anaconda\\lib\\site-packages\\sklearn\\utils\\validation.py:63: DataConversionWarning: A column-vector y was passed when a 1d array was expected. Please change the shape of y to (n_samples, ), for example using ravel().\n",
      "  return f(*args, **kwargs)\n",
      "D:\\anaconda\\lib\\site-packages\\sklearn\\utils\\validation.py:63: DataConversionWarning: A column-vector y was passed when a 1d array was expected. Please change the shape of y to (n_samples, ), for example using ravel().\n",
      "  return f(*args, **kwargs)\n",
      "D:\\anaconda\\lib\\site-packages\\sklearn\\utils\\validation.py:63: DataConversionWarning: A column-vector y was passed when a 1d array was expected. Please change the shape of y to (n_samples, ), for example using ravel().\n",
      "  return f(*args, **kwargs)\n",
      "D:\\anaconda\\lib\\site-packages\\sklearn\\utils\\validation.py:63: DataConversionWarning: A column-vector y was passed when a 1d array was expected. Please change the shape of y to (n_samples, ), for example using ravel().\n",
      "  return f(*args, **kwargs)\n",
      "D:\\anaconda\\lib\\site-packages\\sklearn\\utils\\validation.py:63: DataConversionWarning: A column-vector y was passed when a 1d array was expected. Please change the shape of y to (n_samples, ), for example using ravel().\n",
      "  return f(*args, **kwargs)\n",
      "D:\\anaconda\\lib\\site-packages\\sklearn\\utils\\validation.py:63: DataConversionWarning: A column-vector y was passed when a 1d array was expected. Please change the shape of y to (n_samples, ), for example using ravel().\n",
      "  return f(*args, **kwargs)\n",
      "D:\\anaconda\\lib\\site-packages\\sklearn\\utils\\validation.py:63: DataConversionWarning: A column-vector y was passed when a 1d array was expected. Please change the shape of y to (n_samples, ), for example using ravel().\n",
      "  return f(*args, **kwargs)\n",
      "D:\\anaconda\\lib\\site-packages\\sklearn\\utils\\validation.py:63: DataConversionWarning: A column-vector y was passed when a 1d array was expected. Please change the shape of y to (n_samples, ), for example using ravel().\n",
      "  return f(*args, **kwargs)\n",
      "D:\\anaconda\\lib\\site-packages\\sklearn\\utils\\validation.py:63: DataConversionWarning: A column-vector y was passed when a 1d array was expected. Please change the shape of y to (n_samples, ), for example using ravel().\n",
      "  return f(*args, **kwargs)\n",
      "D:\\anaconda\\lib\\site-packages\\sklearn\\utils\\validation.py:63: DataConversionWarning: A column-vector y was passed when a 1d array was expected. Please change the shape of y to (n_samples, ), for example using ravel().\n",
      "  return f(*args, **kwargs)\n",
      "D:\\anaconda\\lib\\site-packages\\sklearn\\utils\\validation.py:63: DataConversionWarning: A column-vector y was passed when a 1d array was expected. Please change the shape of y to (n_samples, ), for example using ravel().\n",
      "  return f(*args, **kwargs)\n",
      "D:\\anaconda\\lib\\site-packages\\sklearn\\utils\\validation.py:63: DataConversionWarning: A column-vector y was passed when a 1d array was expected. Please change the shape of y to (n_samples, ), for example using ravel().\n",
      "  return f(*args, **kwargs)\n",
      "D:\\anaconda\\lib\\site-packages\\sklearn\\utils\\validation.py:63: DataConversionWarning: A column-vector y was passed when a 1d array was expected. Please change the shape of y to (n_samples, ), for example using ravel().\n",
      "  return f(*args, **kwargs)\n",
      "D:\\anaconda\\lib\\site-packages\\sklearn\\utils\\validation.py:63: DataConversionWarning: A column-vector y was passed when a 1d array was expected. Please change the shape of y to (n_samples, ), for example using ravel().\n",
      "  return f(*args, **kwargs)\n",
      "D:\\anaconda\\lib\\site-packages\\sklearn\\utils\\validation.py:63: DataConversionWarning: A column-vector y was passed when a 1d array was expected. Please change the shape of y to (n_samples, ), for example using ravel().\n",
      "  return f(*args, **kwargs)\n",
      "D:\\anaconda\\lib\\site-packages\\sklearn\\utils\\validation.py:63: DataConversionWarning: A column-vector y was passed when a 1d array was expected. Please change the shape of y to (n_samples, ), for example using ravel().\n",
      "  return f(*args, **kwargs)\n",
      "D:\\anaconda\\lib\\site-packages\\sklearn\\utils\\validation.py:63: DataConversionWarning: A column-vector y was passed when a 1d array was expected. Please change the shape of y to (n_samples, ), for example using ravel().\n",
      "  return f(*args, **kwargs)\n",
      "D:\\anaconda\\lib\\site-packages\\sklearn\\utils\\validation.py:63: DataConversionWarning: A column-vector y was passed when a 1d array was expected. Please change the shape of y to (n_samples, ), for example using ravel().\n",
      "  return f(*args, **kwargs)\n",
      "D:\\anaconda\\lib\\site-packages\\sklearn\\utils\\validation.py:63: DataConversionWarning: A column-vector y was passed when a 1d array was expected. Please change the shape of y to (n_samples, ), for example using ravel().\n",
      "  return f(*args, **kwargs)\n",
      "D:\\anaconda\\lib\\site-packages\\sklearn\\utils\\validation.py:63: DataConversionWarning: A column-vector y was passed when a 1d array was expected. Please change the shape of y to (n_samples, ), for example using ravel().\n",
      "  return f(*args, **kwargs)\n",
      "D:\\anaconda\\lib\\site-packages\\sklearn\\utils\\validation.py:63: DataConversionWarning: A column-vector y was passed when a 1d array was expected. Please change the shape of y to (n_samples, ), for example using ravel().\n",
      "  return f(*args, **kwargs)\n",
      "D:\\anaconda\\lib\\site-packages\\sklearn\\utils\\validation.py:63: DataConversionWarning: A column-vector y was passed when a 1d array was expected. Please change the shape of y to (n_samples, ), for example using ravel().\n",
      "  return f(*args, **kwargs)\n",
      "D:\\anaconda\\lib\\site-packages\\sklearn\\utils\\validation.py:63: DataConversionWarning: A column-vector y was passed when a 1d array was expected. Please change the shape of y to (n_samples, ), for example using ravel().\n",
      "  return f(*args, **kwargs)\n",
      "D:\\anaconda\\lib\\site-packages\\sklearn\\utils\\validation.py:63: DataConversionWarning: A column-vector y was passed when a 1d array was expected. Please change the shape of y to (n_samples, ), for example using ravel().\n",
      "  return f(*args, **kwargs)\n",
      "D:\\anaconda\\lib\\site-packages\\sklearn\\utils\\validation.py:63: DataConversionWarning: A column-vector y was passed when a 1d array was expected. Please change the shape of y to (n_samples, ), for example using ravel().\n",
      "  return f(*args, **kwargs)\n",
      "D:\\anaconda\\lib\\site-packages\\sklearn\\utils\\validation.py:63: DataConversionWarning: A column-vector y was passed when a 1d array was expected. Please change the shape of y to (n_samples, ), for example using ravel().\n",
      "  return f(*args, **kwargs)\n",
      "D:\\anaconda\\lib\\site-packages\\sklearn\\utils\\validation.py:63: DataConversionWarning: A column-vector y was passed when a 1d array was expected. Please change the shape of y to (n_samples, ), for example using ravel().\n",
      "  return f(*args, **kwargs)\n",
      "D:\\anaconda\\lib\\site-packages\\sklearn\\utils\\validation.py:63: DataConversionWarning: A column-vector y was passed when a 1d array was expected. Please change the shape of y to (n_samples, ), for example using ravel().\n",
      "  return f(*args, **kwargs)\n",
      "D:\\anaconda\\lib\\site-packages\\sklearn\\utils\\validation.py:63: DataConversionWarning: A column-vector y was passed when a 1d array was expected. Please change the shape of y to (n_samples, ), for example using ravel().\n",
      "  return f(*args, **kwargs)\n",
      "D:\\anaconda\\lib\\site-packages\\sklearn\\utils\\validation.py:63: DataConversionWarning: A column-vector y was passed when a 1d array was expected. Please change the shape of y to (n_samples, ), for example using ravel().\n",
      "  return f(*args, **kwargs)\n",
      "D:\\anaconda\\lib\\site-packages\\sklearn\\utils\\validation.py:63: DataConversionWarning: A column-vector y was passed when a 1d array was expected. Please change the shape of y to (n_samples, ), for example using ravel().\n",
      "  return f(*args, **kwargs)\n",
      "D:\\anaconda\\lib\\site-packages\\sklearn\\utils\\validation.py:63: DataConversionWarning: A column-vector y was passed when a 1d array was expected. Please change the shape of y to (n_samples, ), for example using ravel().\n",
      "  return f(*args, **kwargs)\n",
      "D:\\anaconda\\lib\\site-packages\\sklearn\\utils\\validation.py:63: DataConversionWarning: A column-vector y was passed when a 1d array was expected. Please change the shape of y to (n_samples, ), for example using ravel().\n",
      "  return f(*args, **kwargs)\n"
     ]
    },
    {
     "name": "stdout",
     "output_type": "stream",
     "text": [
      "Tuned Logistic Regression Parameters: {'C': 0.0007196856730011522}\n",
      "Best score is 0.6442239749406344\n"
     ]
    },
    {
     "name": "stderr",
     "output_type": "stream",
     "text": [
      "D:\\anaconda\\lib\\site-packages\\sklearn\\utils\\validation.py:63: DataConversionWarning: A column-vector y was passed when a 1d array was expected. Please change the shape of y to (n_samples, ), for example using ravel().\n",
      "  return f(*args, **kwargs)\n",
      "D:\\anaconda\\lib\\site-packages\\sklearn\\utils\\validation.py:63: DataConversionWarning: A column-vector y was passed when a 1d array was expected. Please change the shape of y to (n_samples, ), for example using ravel().\n",
      "  return f(*args, **kwargs)\n",
      "D:\\anaconda\\lib\\site-packages\\sklearn\\utils\\validation.py:63: DataConversionWarning: A column-vector y was passed when a 1d array was expected. Please change the shape of y to (n_samples, ), for example using ravel().\n",
      "  return f(*args, **kwargs)\n",
      "D:\\anaconda\\lib\\site-packages\\sklearn\\utils\\validation.py:63: DataConversionWarning: A column-vector y was passed when a 1d array was expected. Please change the shape of y to (n_samples, ), for example using ravel().\n",
      "  return f(*args, **kwargs)\n"
     ]
    }
   ],
   "source": [
    "# Creating the hyperparameter grid\n",
    "c_space = np.logspace(-5, 8, 15)\n",
    "param_grid = {'C': c_space}\n",
    " \n",
    "# Instantiating logistic regression classifier\n",
    "#logreg = LogisticRegression()\n",
    " \n",
    "# Instantiating the GridSearchCV object\n",
    "logreg_cv = GridSearchCV(logreg, param_grid, cv = 5)\n",
    " \n",
    "logreg_cv.fit(X_train, Y_train)\n",
    " \n",
    "# Print the tuned parameters and score\n",
    "print(\"Tuned Logistic Regression Parameters: {}\".format(logreg_cv.best_params_))\n",
    "print(\"Best score is {}\".format(logreg_cv.best_score_))"
   ]
  },
  {
   "cell_type": "markdown",
   "id": "23bba1db",
   "metadata": {},
   "source": [
    "## Convolutional neural network"
   ]
  },
  {
   "cell_type": "code",
   "execution_count": 206,
   "id": "fe2d719d",
   "metadata": {},
   "outputs": [
    {
     "name": "stdout",
     "output_type": "stream",
     "text": [
      "Model: \"sequential\"\n",
      "_________________________________________________________________\n",
      " Layer (type)                Output Shape              Param #   \n",
      "=================================================================\n",
      " dense (Dense)               (None, 32)                288       \n",
      "                                                                 \n",
      " activation (Activation)     (None, 32)                0         \n",
      "                                                                 \n",
      " dense_1 (Dense)             (None, 64)                2112      \n",
      "                                                                 \n",
      " activation_1 (Activation)   (None, 64)                0         \n",
      "                                                                 \n",
      " dense_2 (Dense)             (None, 64)                4160      \n",
      "                                                                 \n",
      " activation_2 (Activation)   (None, 64)                0         \n",
      "                                                                 \n",
      " dense_3 (Dense)             (None, 128)               8320      \n",
      "                                                                 \n",
      " activation_3 (Activation)   (None, 128)               0         \n",
      "                                                                 \n",
      " dense_4 (Dense)             (None, 128)               16512     \n",
      "                                                                 \n",
      " activation_4 (Activation)   (None, 128)               0         \n",
      "                                                                 \n",
      " dense_5 (Dense)             (None, 256)               33024     \n",
      "                                                                 \n",
      " activation_5 (Activation)   (None, 256)               0         \n",
      "                                                                 \n",
      " dense_6 (Dense)             (None, 256)               65792     \n",
      "                                                                 \n",
      " activation_6 (Activation)   (None, 256)               0         \n",
      "                                                                 \n",
      " dense_7 (Dense)             (None, 2)                 514       \n",
      "                                                                 \n",
      " activation_7 (Activation)   (None, 2)                 0         \n",
      "                                                                 \n",
      "=================================================================\n",
      "Total params: 130,722\n",
      "Trainable params: 130,722\n",
      "Non-trainable params: 0\n",
      "_________________________________________________________________\n",
      "None\n",
      "Epoch 1/100\n",
      "478/478 [==============================] - 2s 4ms/step - loss: 0.6699 - accuracy: 0.6050 - val_loss: 0.6632 - val_accuracy: 0.6036\n",
      "Epoch 2/100\n",
      "478/478 [==============================] - 2s 3ms/step - loss: 0.6537 - accuracy: 0.6087 - val_loss: 0.6461 - val_accuracy: 0.6151\n",
      "Epoch 3/100\n",
      "478/478 [==============================] - 2s 3ms/step - loss: 0.6361 - accuracy: 0.6321 - val_loss: 0.6312 - val_accuracy: 0.6398\n",
      "Epoch 4/100\n",
      "478/478 [==============================] - 2s 3ms/step - loss: 0.6268 - accuracy: 0.6444 - val_loss: 0.6261 - val_accuracy: 0.6406\n",
      "Epoch 5/100\n",
      "478/478 [==============================] - 2s 3ms/step - loss: 0.6234 - accuracy: 0.6455 - val_loss: 0.6231 - val_accuracy: 0.6448\n",
      "Epoch 6/100\n",
      "478/478 [==============================] - 2s 3ms/step - loss: 0.6215 - accuracy: 0.6461 - val_loss: 0.6217 - val_accuracy: 0.6450\n",
      "Epoch 7/100\n",
      "478/478 [==============================] - 2s 3ms/step - loss: 0.6200 - accuracy: 0.6482 - val_loss: 0.6201 - val_accuracy: 0.6468\n",
      "Epoch 8/100\n",
      "478/478 [==============================] - 2s 3ms/step - loss: 0.6187 - accuracy: 0.6486 - val_loss: 0.6203 - val_accuracy: 0.6462\n",
      "Epoch 9/100\n",
      "478/478 [==============================] - 2s 3ms/step - loss: 0.6176 - accuracy: 0.6509 - val_loss: 0.6188 - val_accuracy: 0.6498\n",
      "Epoch 10/100\n",
      "478/478 [==============================] - 2s 3ms/step - loss: 0.6166 - accuracy: 0.6511 - val_loss: 0.6174 - val_accuracy: 0.6506\n",
      "Epoch 11/100\n",
      "478/478 [==============================] - 2s 3ms/step - loss: 0.6155 - accuracy: 0.6530 - val_loss: 0.6160 - val_accuracy: 0.6528\n",
      "Epoch 12/100\n",
      "478/478 [==============================] - 2s 3ms/step - loss: 0.6146 - accuracy: 0.6527 - val_loss: 0.6160 - val_accuracy: 0.6532\n",
      "Epoch 13/100\n",
      "478/478 [==============================] - 2s 3ms/step - loss: 0.6137 - accuracy: 0.6554 - val_loss: 0.6149 - val_accuracy: 0.6531\n",
      "Epoch 14/100\n",
      "478/478 [==============================] - 2s 3ms/step - loss: 0.6126 - accuracy: 0.6568 - val_loss: 0.6137 - val_accuracy: 0.6566\n",
      "Epoch 15/100\n",
      "478/478 [==============================] - 2s 4ms/step - loss: 0.6118 - accuracy: 0.6578 - val_loss: 0.6128 - val_accuracy: 0.6575\n",
      "Epoch 16/100\n",
      "478/478 [==============================] - 2s 3ms/step - loss: 0.6109 - accuracy: 0.6583 - val_loss: 0.6132 - val_accuracy: 0.6555\n",
      "Epoch 17/100\n",
      "478/478 [==============================] - 2s 3ms/step - loss: 0.6100 - accuracy: 0.6605 - val_loss: 0.6129 - val_accuracy: 0.6573\n",
      "Epoch 18/100\n",
      "478/478 [==============================] - 2s 3ms/step - loss: 0.6091 - accuracy: 0.6602 - val_loss: 0.6108 - val_accuracy: 0.6586\n",
      "Epoch 19/100\n",
      "478/478 [==============================] - 2s 3ms/step - loss: 0.6083 - accuracy: 0.6599 - val_loss: 0.6101 - val_accuracy: 0.6598\n",
      "Epoch 20/100\n",
      "478/478 [==============================] - 2s 3ms/step - loss: 0.6075 - accuracy: 0.6613 - val_loss: 0.6092 - val_accuracy: 0.6591\n",
      "Epoch 21/100\n",
      "478/478 [==============================] - 2s 3ms/step - loss: 0.6068 - accuracy: 0.6637 - val_loss: 0.6098 - val_accuracy: 0.6632\n",
      "Epoch 22/100\n",
      "478/478 [==============================] - 2s 3ms/step - loss: 0.6061 - accuracy: 0.6627 - val_loss: 0.6090 - val_accuracy: 0.6614\n",
      "Epoch 23/100\n",
      "478/478 [==============================] - 2s 3ms/step - loss: 0.6055 - accuracy: 0.6630 - val_loss: 0.6080 - val_accuracy: 0.6600\n",
      "Epoch 24/100\n",
      "478/478 [==============================] - 2s 3ms/step - loss: 0.6049 - accuracy: 0.6639 - val_loss: 0.6086 - val_accuracy: 0.6599\n",
      "Epoch 25/100\n",
      "478/478 [==============================] - 2s 3ms/step - loss: 0.6042 - accuracy: 0.6652 - val_loss: 0.6071 - val_accuracy: 0.6604\n",
      "Epoch 26/100\n",
      "478/478 [==============================] - 2s 3ms/step - loss: 0.6040 - accuracy: 0.6635 - val_loss: 0.6067 - val_accuracy: 0.6597\n",
      "Epoch 27/100\n",
      "478/478 [==============================] - 2s 3ms/step - loss: 0.6034 - accuracy: 0.6653 - val_loss: 0.6097 - val_accuracy: 0.6562\n",
      "Epoch 28/100\n",
      "478/478 [==============================] - 2s 3ms/step - loss: 0.6029 - accuracy: 0.6654 - val_loss: 0.6060 - val_accuracy: 0.6613\n",
      "Epoch 29/100\n",
      "478/478 [==============================] - 2s 3ms/step - loss: 0.6026 - accuracy: 0.6654 - val_loss: 0.6058 - val_accuracy: 0.6604\n",
      "Epoch 30/100\n",
      "478/478 [==============================] - 2s 3ms/step - loss: 0.6021 - accuracy: 0.6658 - val_loss: 0.6104 - val_accuracy: 0.6616\n",
      "Epoch 31/100\n",
      "478/478 [==============================] - 2s 3ms/step - loss: 0.6019 - accuracy: 0.6664 - val_loss: 0.6062 - val_accuracy: 0.6622\n",
      "Epoch 32/100\n",
      "478/478 [==============================] - 2s 3ms/step - loss: 0.6015 - accuracy: 0.6667 - val_loss: 0.6064 - val_accuracy: 0.6631\n",
      "Epoch 33/100\n",
      "478/478 [==============================] - 2s 3ms/step - loss: 0.6011 - accuracy: 0.6669 - val_loss: 0.6050 - val_accuracy: 0.6627\n",
      "Epoch 34/100\n",
      "478/478 [==============================] - 2s 3ms/step - loss: 0.6009 - accuracy: 0.6664 - val_loss: 0.6055 - val_accuracy: 0.6635\n",
      "Epoch 35/100\n",
      "478/478 [==============================] - 2s 3ms/step - loss: 0.6003 - accuracy: 0.6666 - val_loss: 0.6127 - val_accuracy: 0.6543\n",
      "Epoch 36/100\n",
      "478/478 [==============================] - 2s 3ms/step - loss: 0.6004 - accuracy: 0.6649 - val_loss: 0.6044 - val_accuracy: 0.6610\n",
      "Epoch 37/100\n",
      "478/478 [==============================] - 2s 3ms/step - loss: 0.6000 - accuracy: 0.6672 - val_loss: 0.6043 - val_accuracy: 0.6629\n",
      "Epoch 38/100\n",
      "478/478 [==============================] - 2s 3ms/step - loss: 0.5997 - accuracy: 0.6666 - val_loss: 0.6046 - val_accuracy: 0.6612\n",
      "Epoch 39/100\n",
      "478/478 [==============================] - 2s 3ms/step - loss: 0.5995 - accuracy: 0.6665 - val_loss: 0.6096 - val_accuracy: 0.6584\n",
      "Epoch 40/100\n"
     ]
    },
    {
     "name": "stdout",
     "output_type": "stream",
     "text": [
      "478/478 [==============================] - 2s 3ms/step - loss: 0.5991 - accuracy: 0.6676 - val_loss: 0.6120 - val_accuracy: 0.6576\n",
      "Epoch 41/100\n",
      "478/478 [==============================] - 2s 3ms/step - loss: 0.5991 - accuracy: 0.6669 - val_loss: 0.6041 - val_accuracy: 0.6615\n",
      "Epoch 42/100\n",
      "478/478 [==============================] - 2s 3ms/step - loss: 0.5986 - accuracy: 0.6689 - val_loss: 0.6035 - val_accuracy: 0.6604\n",
      "Epoch 43/100\n",
      "478/478 [==============================] - 2s 3ms/step - loss: 0.5984 - accuracy: 0.6678 - val_loss: 0.6041 - val_accuracy: 0.6603\n",
      "Epoch 44/100\n",
      "478/478 [==============================] - 2s 3ms/step - loss: 0.5982 - accuracy: 0.6683 - val_loss: 0.6039 - val_accuracy: 0.6636\n",
      "Epoch 45/100\n",
      "478/478 [==============================] - 2s 3ms/step - loss: 0.5980 - accuracy: 0.6679 - val_loss: 0.6042 - val_accuracy: 0.6600\n",
      "Epoch 46/100\n",
      "478/478 [==============================] - 2s 3ms/step - loss: 0.5976 - accuracy: 0.6692 - val_loss: 0.6030 - val_accuracy: 0.6623\n",
      "Epoch 47/100\n",
      "478/478 [==============================] - 2s 3ms/step - loss: 0.5975 - accuracy: 0.6688 - val_loss: 0.6066 - val_accuracy: 0.6609\n",
      "Epoch 48/100\n",
      "478/478 [==============================] - 2s 3ms/step - loss: 0.5973 - accuracy: 0.6687 - val_loss: 0.6030 - val_accuracy: 0.6623\n",
      "Epoch 49/100\n",
      "478/478 [==============================] - 2s 3ms/step - loss: 0.5970 - accuracy: 0.6697 - val_loss: 0.6027 - val_accuracy: 0.6630\n",
      "Epoch 50/100\n",
      "478/478 [==============================] - 2s 3ms/step - loss: 0.5968 - accuracy: 0.6694 - val_loss: 0.6027 - val_accuracy: 0.6635\n",
      "Epoch 51/100\n",
      "478/478 [==============================] - 2s 3ms/step - loss: 0.5968 - accuracy: 0.6688 - val_loss: 0.6032 - val_accuracy: 0.6644\n",
      "Epoch 52/100\n",
      "478/478 [==============================] - 2s 3ms/step - loss: 0.5964 - accuracy: 0.6686 - val_loss: 0.6033 - val_accuracy: 0.6625\n",
      "Epoch 53/100\n",
      "478/478 [==============================] - 2s 3ms/step - loss: 0.5962 - accuracy: 0.6687 - val_loss: 0.6043 - val_accuracy: 0.6614\n",
      "Epoch 54/100\n",
      "478/478 [==============================] - 2s 3ms/step - loss: 0.5961 - accuracy: 0.6691 - val_loss: 0.6030 - val_accuracy: 0.6612\n",
      "Epoch 55/100\n",
      "478/478 [==============================] - 2s 3ms/step - loss: 0.5959 - accuracy: 0.6687 - val_loss: 0.6038 - val_accuracy: 0.6590\n",
      "Epoch 56/100\n",
      "478/478 [==============================] - 2s 3ms/step - loss: 0.5958 - accuracy: 0.6711 - val_loss: 0.6024 - val_accuracy: 0.6631\n",
      "Epoch 57/100\n",
      "478/478 [==============================] - 2s 3ms/step - loss: 0.5955 - accuracy: 0.6709 - val_loss: 0.6034 - val_accuracy: 0.6608\n",
      "Epoch 58/100\n",
      "478/478 [==============================] - 2s 4ms/step - loss: 0.5954 - accuracy: 0.6701 - val_loss: 0.6027 - val_accuracy: 0.6616\n",
      "Epoch 59/100\n",
      "478/478 [==============================] - 2s 4ms/step - loss: 0.5952 - accuracy: 0.6702 - val_loss: 0.6035 - val_accuracy: 0.6612\n",
      "Epoch 60/100\n",
      "478/478 [==============================] - 2s 3ms/step - loss: 0.5951 - accuracy: 0.6720 - val_loss: 0.6029 - val_accuracy: 0.6614\n",
      "Epoch 61/100\n",
      "478/478 [==============================] - 2s 3ms/step - loss: 0.5948 - accuracy: 0.6705 - val_loss: 0.6028 - val_accuracy: 0.6630\n",
      "Epoch 62/100\n",
      "478/478 [==============================] - 2s 3ms/step - loss: 0.5948 - accuracy: 0.6703 - val_loss: 0.6074 - val_accuracy: 0.6606\n",
      "Epoch 63/100\n",
      "478/478 [==============================] - 2s 3ms/step - loss: 0.5944 - accuracy: 0.6711 - val_loss: 0.6031 - val_accuracy: 0.6604\n",
      "Epoch 64/100\n",
      "478/478 [==============================] - 2s 3ms/step - loss: 0.5944 - accuracy: 0.6705 - val_loss: 0.6038 - val_accuracy: 0.6623\n",
      "Epoch 65/100\n",
      "478/478 [==============================] - 2s 3ms/step - loss: 0.5941 - accuracy: 0.6711 - val_loss: 0.6042 - val_accuracy: 0.6618\n",
      "Epoch 66/100\n",
      "478/478 [==============================] - 2s 3ms/step - loss: 0.5937 - accuracy: 0.6716 - val_loss: 0.6054 - val_accuracy: 0.6611\n",
      "Epoch 67/100\n",
      "478/478 [==============================] - 2s 3ms/step - loss: 0.5938 - accuracy: 0.6719 - val_loss: 0.6037 - val_accuracy: 0.6588\n",
      "Epoch 68/100\n",
      "478/478 [==============================] - 2s 3ms/step - loss: 0.5935 - accuracy: 0.6722 - val_loss: 0.6040 - val_accuracy: 0.6626\n",
      "Epoch 69/100\n",
      "478/478 [==============================] - 2s 3ms/step - loss: 0.5935 - accuracy: 0.6723 - val_loss: 0.6097 - val_accuracy: 0.6546\n",
      "Epoch 70/100\n",
      "478/478 [==============================] - 2s 4ms/step - loss: 0.5931 - accuracy: 0.6737 - val_loss: 0.6035 - val_accuracy: 0.6632\n",
      "Epoch 71/100\n",
      "478/478 [==============================] - 2s 3ms/step - loss: 0.5932 - accuracy: 0.6727 - val_loss: 0.6031 - val_accuracy: 0.6613\n",
      "Epoch 72/100\n",
      "478/478 [==============================] - 2s 3ms/step - loss: 0.5929 - accuracy: 0.6726 - val_loss: 0.6052 - val_accuracy: 0.6573\n",
      "Epoch 73/100\n",
      "478/478 [==============================] - 2s 3ms/step - loss: 0.5929 - accuracy: 0.6719 - val_loss: 0.6078 - val_accuracy: 0.6583\n",
      "Epoch 74/100\n",
      "478/478 [==============================] - 2s 3ms/step - loss: 0.5927 - accuracy: 0.6720 - val_loss: 0.6023 - val_accuracy: 0.6621\n",
      "Epoch 75/100\n",
      "478/478 [==============================] - 2s 3ms/step - loss: 0.5922 - accuracy: 0.6712 - val_loss: 0.6113 - val_accuracy: 0.6560\n",
      "Epoch 76/100\n",
      "478/478 [==============================] - 2s 3ms/step - loss: 0.5924 - accuracy: 0.6721 - val_loss: 0.6039 - val_accuracy: 0.6615\n",
      "Epoch 77/100\n",
      "478/478 [==============================] - 2s 4ms/step - loss: 0.5920 - accuracy: 0.6727 - val_loss: 0.6027 - val_accuracy: 0.6619\n",
      "Epoch 78/100\n",
      "478/478 [==============================] - 2s 4ms/step - loss: 0.5918 - accuracy: 0.6737 - val_loss: 0.6048 - val_accuracy: 0.6593\n",
      "Epoch 79/100\n",
      "478/478 [==============================] - 2s 4ms/step - loss: 0.5921 - accuracy: 0.6728 - val_loss: 0.6037 - val_accuracy: 0.6605\n",
      "Epoch 80/100\n",
      "478/478 [==============================] - 2s 3ms/step - loss: 0.5913 - accuracy: 0.6745 - val_loss: 0.6022 - val_accuracy: 0.6632\n",
      "Epoch 81/100\n",
      "478/478 [==============================] - 2s 3ms/step - loss: 0.5913 - accuracy: 0.6740 - val_loss: 0.6030 - val_accuracy: 0.6612\n",
      "Epoch 82/100\n",
      "478/478 [==============================] - 2s 3ms/step - loss: 0.5914 - accuracy: 0.6740 - val_loss: 0.6028 - val_accuracy: 0.6617\n",
      "Epoch 83/100\n",
      "478/478 [==============================] - 2s 3ms/step - loss: 0.5909 - accuracy: 0.6731 - val_loss: 0.6043 - val_accuracy: 0.6610\n",
      "Epoch 84/100\n",
      "478/478 [==============================] - 2s 3ms/step - loss: 0.5909 - accuracy: 0.6731 - val_loss: 0.6041 - val_accuracy: 0.6606\n",
      "Epoch 85/100\n",
      "478/478 [==============================] - 2s 3ms/step - loss: 0.5905 - accuracy: 0.6753 - val_loss: 0.6028 - val_accuracy: 0.6609\n",
      "Epoch 86/100\n",
      "478/478 [==============================] - 2s 3ms/step - loss: 0.5905 - accuracy: 0.6741 - val_loss: 0.6023 - val_accuracy: 0.6600\n",
      "Epoch 87/100\n",
      "478/478 [==============================] - 2s 3ms/step - loss: 0.5907 - accuracy: 0.6732 - val_loss: 0.6017 - val_accuracy: 0.6622\n",
      "Epoch 88/100\n",
      "478/478 [==============================] - 2s 3ms/step - loss: 0.5905 - accuracy: 0.6742 - val_loss: 0.6022 - val_accuracy: 0.6631\n",
      "Epoch 89/100\n",
      "478/478 [==============================] - 2s 3ms/step - loss: 0.5899 - accuracy: 0.6744 - val_loss: 0.6069 - val_accuracy: 0.6598\n",
      "Epoch 90/100\n",
      "478/478 [==============================] - 2s 3ms/step - loss: 0.5899 - accuracy: 0.6765 - val_loss: 0.6050 - val_accuracy: 0.6621\n",
      "Epoch 91/100\n",
      "478/478 [==============================] - 2s 3ms/step - loss: 0.5901 - accuracy: 0.6742 - val_loss: 0.6068 - val_accuracy: 0.6607\n",
      "Epoch 92/100\n",
      "478/478 [==============================] - 2s 3ms/step - loss: 0.5895 - accuracy: 0.6744 - val_loss: 0.6124 - val_accuracy: 0.6574\n",
      "Epoch 93/100\n",
      "478/478 [==============================] - 2s 3ms/step - loss: 0.5897 - accuracy: 0.6748 - val_loss: 0.6027 - val_accuracy: 0.6633\n",
      "Epoch 94/100\n",
      "478/478 [==============================] - 2s 3ms/step - loss: 0.5895 - accuracy: 0.6749 - val_loss: 0.6019 - val_accuracy: 0.6642\n",
      "Epoch 95/100\n",
      "478/478 [==============================] - 2s 3ms/step - loss: 0.5893 - accuracy: 0.6744 - val_loss: 0.6051 - val_accuracy: 0.6587\n",
      "Epoch 96/100\n",
      "478/478 [==============================] - 2s 3ms/step - loss: 0.5890 - accuracy: 0.6756 - val_loss: 0.6032 - val_accuracy: 0.6628\n"
     ]
    },
    {
     "name": "stdout",
     "output_type": "stream",
     "text": [
      "Epoch 97/100\n",
      "478/478 [==============================] - 2s 4ms/step - loss: 0.5889 - accuracy: 0.6755 - val_loss: 0.6055 - val_accuracy: 0.6578\n",
      "Epoch 98/100\n",
      "478/478 [==============================] - 2s 4ms/step - loss: 0.5888 - accuracy: 0.6758 - val_loss: 0.6323 - val_accuracy: 0.6266\n",
      "Epoch 99/100\n",
      "478/478 [==============================] - 2s 3ms/step - loss: 0.5886 - accuracy: 0.6750 - val_loss: 0.6024 - val_accuracy: 0.6626\n",
      "Epoch 100/100\n",
      "478/478 [==============================] - 2s 3ms/step - loss: 0.5886 - accuracy: 0.6767 - val_loss: 0.6043 - val_accuracy: 0.6616\n",
      "Loss : 0.604311466217041\n",
      "Accuracy :66.16086959838867\n"
     ]
    }
   ],
   "source": [
    "#Single layer architecture\n",
    "model = Sequential()\n",
    "model.add(Dense(32,input_shape=(X_train.shape[1],)))\n",
    "model.add(Activation('relu'))\n",
    "model.add(Dense(64,input_shape=(X_train.shape[1],)))\n",
    "model.add(Activation('relu'))\n",
    "model.add(Dense(64,input_shape=(X_train.shape[1],)))\n",
    "model.add(Activation('relu'))\n",
    "model.add(Dense(128,input_shape=(X_train.shape[1],)))\n",
    "model.add(Activation('relu'))\n",
    "model.add(Dense(128,input_shape=(X_train.shape[1],)))\n",
    "model.add(Activation('relu'))\n",
    "model.add(Dense(256,input_shape=(X_train.shape[1],)))\n",
    "model.add(Activation('relu'))\n",
    "model.add(Dense(256,input_shape=(X_train.shape[1],)))\n",
    "model.add(Activation('relu'))\n",
    "model.add(Dense(2))\n",
    "model.add(Activation('softmax'))\n",
    "print(model.summary())\n",
    "model.compile(loss='sparse_categorical_crossentropy',\n",
    "              optimizer=\"sgd\",metrics=['accuracy'])\n",
    "model.fit(X_train, Y_train, batch_size=128, epochs=100, verbose=1, validation_data=(X_test, Y_test))\n",
    "loss, accuracy = model.evaluate(X_test,Y_test, verbose=0)\n",
    "print(\"Loss : \"+str(loss))\n",
    "print(\"Accuracy :\"+str(accuracy*100.0))"
   ]
  },
  {
   "cell_type": "markdown",
   "id": "b7adf657",
   "metadata": {},
   "source": [
    "# Conclusion :"
   ]
  },
  {
   "cell_type": "markdown",
   "id": "20bd5f39",
   "metadata": {},
   "source": [
    "This project will help students in decision making of which University to choose for their higher education in other countries like USA.<br>\n",
    "They can enter their Scores and can check the Universities to which the can apply<br>\n",
    "\n",
    "Out of all the algorithms used we come to a conclusion that Random Forest Algorithm<br>\n",
    "gives us the maximum accuracy of 92%<br>\n",
    "\n",
    "<br>\n",
    "Students can either check which universities to apply to (Through WEBPAGE - KNN trained Algorithm)<br>\n",
    "or<br> \n",
    "Check if they can get into their dream university (Through Random Forest Classification)\n"
   ]
  }
 ],
 "metadata": {
  "kernelspec": {
   "display_name": "Python 3 (ipykernel)",
   "language": "python",
   "name": "python3"
  },
  "language_info": {
   "codemirror_mode": {
    "name": "ipython",
    "version": 3
   },
   "file_extension": ".py",
   "mimetype": "text/x-python",
   "name": "python",
   "nbconvert_exporter": "python",
   "pygments_lexer": "ipython3",
   "version": "3.9.7"
  }
 },
 "nbformat": 4,
 "nbformat_minor": 5
}
